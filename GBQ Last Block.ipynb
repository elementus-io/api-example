{
 "cells": [
  {
   "cell_type": "code",
   "execution_count": 1,
   "id": "7fa8c541",
   "metadata": {},
   "outputs": [
    {
     "name": "stdout",
     "output_type": "stream",
     "text": [
      "Note: you may need to restart the kernel to use updated packages.\n"
     ]
    }
   ],
   "source": [
    "%pip install python-dotenv jupysql duckdb duckdb-engine sqlalchemy openai twitter-api-client --quiet"
   ]
  },
  {
   "cell_type": "markdown",
   "id": "6c717aa9",
   "metadata": {},
   "source": [
    "# Elementus API Usage Example"
   ]
  },
  {
   "cell_type": "code",
   "execution_count": 1,
   "id": "88d296a6",
   "metadata": {},
   "outputs": [
    {
     "name": "stderr",
     "output_type": "stream",
     "text": [
      "/opt/homebrew/Caskroom/miniforge/base/envs/torch/lib/python3.12/site-packages/google/auth/_default.py:76: UserWarning: Your application has authenticated using end user credentials from Google Cloud SDK without a quota project. You might receive a \"quota exceeded\" or \"API not enabled\" error. See the following page for troubleshooting: https://cloud.google.com/docs/authentication/adc-troubleshooting/user-creds. \n",
      "  warnings.warn(_CLOUD_SDK_CREDENTIALS_WARNING)\n"
     ]
    }
   ],
   "source": [
    "from elementus import ElementusClient, ElementusAPIError\n",
    "import matplotlib.pyplot as plt\n",
    "import pandas as pd\n",
    "from sqlalchemy import *\n",
    "from sqlalchemy.engine import create_engine\n",
    "from sqlalchemy.schema import *\n",
    "from helper import *\n",
    "import os\n",
    "\n",
    "# Load the environment variables\n",
    "load_env()\n",
    "\n",
    "# Retrieve Google BigQuery connection string from the environment\n",
    "GBQ_URI = get_gbq_uri()\n",
    "engine = create_engine(GBQ_URI)\n",
    "\n",
    "# Retrieve the API key from the environment\n",
    "ELEMENTUS_API_KEY = get_elementus_api_key()"
   ]
  },
  {
   "cell_type": "markdown",
   "id": "407c54d6",
   "metadata": {},
   "source": [
    "### Retrieve last Bitcoin block transactions over 1 BTC"
   ]
  },
  {
   "cell_type": "code",
   "execution_count": 2,
   "id": "1d4a20e5-4661-413b-8c68-0d0f6a057b9a",
   "metadata": {},
   "outputs": [],
   "source": [
    "%load_ext sql\n",
    "%sql engine"
   ]
  },
  {
   "cell_type": "code",
   "execution_count": 3,
   "id": "52c00320-a2d0-4ec8-aa75-de4a5bfb82b7",
   "metadata": {},
   "outputs": [
    {
     "data": {
      "text/html": [
       "<span style=\"None\">Running query in &#x27;bigquery://elementus-prod-242016&#x27;</span>"
      ],
      "text/plain": [
       "Running query in 'bigquery://elementus-prod-242016'"
      ]
     },
     "metadata": {},
     "output_type": "display_data"
    },
    {
     "data": {
      "text/html": [
       "<span style=\"color: green\">92 rows affected.</span>"
      ],
      "text/plain": [
       "92 rows affected."
      ]
     },
     "metadata": {},
     "output_type": "display_data"
    }
   ],
   "source": [
    "%%sql result <<\n",
    "WITH max_block AS (\n",
    "  SELECT MAX(number) as max_number \n",
    "  FROM `bigquery-public-data.crypto_bitcoin.blocks`\n",
    "),\n",
    "inputs AS (\n",
    "  SELECT DISTINCT\n",
    "    transaction_hash AS tx_hash,\n",
    "    addresses\n",
    "  FROM `bigquery-public-data.crypto_bitcoin.inputs`, max_block\n",
    "  WHERE block_number = max_number\n",
    "),\n",
    "outputs AS (\n",
    "  SELECT \n",
    "    transaction_hash AS tx_hash,\n",
    "    addresses[OFFSET(0)] AS address,\n",
    "    value / 100000000 AS value\n",
    "  FROM `bigquery-public-data.crypto_bitcoin.outputs`, max_block\n",
    "  WHERE block_number = max_number\n",
    ")\n",
    "SELECT \n",
    "    o.tx_hash, \n",
    "    o.address AS output_address, \n",
    "    o.value,\n",
    "    ARRAY_AGG(DISTINCT input_address) AS input_addresses\n",
    "FROM outputs o\n",
    "JOIN inputs i ON o.tx_hash = i.tx_hash\n",
    "CROSS JOIN i.addresses AS input_address\n",
    "WHERE o.address NOT IN UNNEST(i.addresses) AND \n",
    "o.address NOT IN ('bc1qv4r4zwvf5ckdx3llaykl0vez4fdaj4jh5yfjsw') AND \n",
    "i.addresses[OFFSET(0)] NOT IN ('bc1qv4r4zwvf5ckdx3llaykl0vez4fdaj4jh5yfjsw') AND \n",
    "o.value >= 1\n",
    "GROUP BY o.tx_hash, o.address, o.value\n",
    "ORDER BY value DESC"
   ]
  },
  {
   "cell_type": "code",
   "execution_count": 4,
   "id": "a38aef85",
   "metadata": {},
   "outputs": [
    {
     "data": {
      "application/vnd.microsoft.datawrangler.viewer.v0+json": {
       "columns": [
        {
         "name": "index",
         "rawType": "int64",
         "type": "integer"
        },
        {
         "name": "tx_hash",
         "rawType": "object",
         "type": "string"
        },
        {
         "name": "output_address",
         "rawType": "object",
         "type": "string"
        },
        {
         "name": "value",
         "rawType": "object",
         "type": "unknown"
        },
        {
         "name": "input_addresses",
         "rawType": "object",
         "type": "unknown"
        }
       ],
       "conversionMethod": "pd.DataFrame",
       "ref": "3cbc0c80-c6ea-4949-b84f-d879d4cc6b5e",
       "rows": [
        [
         "0",
         "3ba5fa8c6b7a9c70af2fd5e6bf9b159e3181c2a4a59ab9a31f6717c5b58e599a",
         "16scPoahbWZbz1hnLKJQ4KCz21nfMs2Rko",
         "461.81202008",
         "['1Af1SdEZiCNGX5TZwvoReGNpohkB1mrSJE']"
        ],
        [
         "1",
         "3f55299ddf3cc3a0f43d5fd84bc3fb90083bd1066548390aa4b56c5cb3df0094",
         "17aoxXuaHDtRprwUMMEM9P4jUtQjPrEWX",
         "84.84626999",
         "['324H9uyTV9bPgAVgmdJNxPKKKZmowk5CYq']"
        ],
        [
         "2",
         "72b6c5e42dd313cf30bc6c99693efa985c494eb3abc07a9c67ddaf3680ba16d7",
         "bc1qtprs2058jcrxk6jvg9a32rthwlh8l9u0kum384",
         "78.99116759",
         "['bc1qctkffmj8mg08002y483fkjhz7cjlm3g4m862rf']"
        ],
        [
         "3",
         "3e5a81bfce3e4bf09d6733549686023ce9a2c6310d39cfe0409c7d4db38d0f0e",
         "bc1qz8z9wnx4cav4qam8wcdnvld8cm3w0rc7xxp60am24f0erhvd58eqypc5va",
         "75.76216739",
         "['3NH1eBb3AXQTQRCQkxZF8wYnm3s4vZPZy8', '3A35FrkSyoHCoMz4r3vPuAG1QHGpSEQUvZ', '3Kt898GW4v4gydcpvu9GSq4eW1ybA8pJdD', '3MxzFjQX7JDop7qJTms8Dt1mNr4Wdk26XE', '3Kt7qYj3Hm8reFt4wbtn3NV2k8itsV64MF', '3MvErrzEovupLB71Rjy7qJ42yREEQTMYKj', '3578jno476DrNNAhirzXDyk9cuEVNL3BAt', '3NEpVCvMBJaQ8xzaEoXH2sUWmDE2Y97Pj4', '3LEwgWExVbqz3k6vHFvnJepM8GEUkriHNg', '3FesLnSKwmpiHNjK1RLWNiF1uZ1tzjV9ie', '355PPwqySjxKZoFzSqfUvSi76KhBaCVa2b', '34EMxNbW2MDADHkvDVku5j7N1MKReLUNFP', '37Zrwfinveai7zKt2CvN89Bgf9LqkRVRWo', '35CPFvrhRvyYNdVznBnhL8mkotxDnZ4RmS', '3HugBsiHiEgc1t6ZXcnji587PNAZqMeLrn', '3BSU6ivykbQqyXUwexESjGNpPoxa6Pc2kC', '38E5R6QeEznyRyFcvBt6Bak1o793HYFpY2', '341ajUQyyKF7jJ6szQiMpnCxEvcmr8PHCJ', '39jqrcN8jX6wi9AQeK7esYsZT4ZR4VEuPP', '39m3a81eyjCTp6Pm2UNwY8pvZB3xEJsWh5', '3H5k1SePjdXoJuTcuqq1n7xvTiFftrVRUf', '3A96hvDeEb2NtAD21sM8PzeKjVrsFGFJoH', '3GV9DzoayQELStzuy7QKzsiCCGF1ewRern', '3EWkRP8i2hMn6ZTR5UuZYxvSs1gqGgGJo3', '3QtNvBSgJqJPDe1qW6iKyEcm57ekb7AANv', '3C4px9hdRpbCeQ5uXUEoLLZfGa5GUbGk7Y', '3LCSqnWLRgVPzwSLCE25tZZcRqM9iGmk33', '3Akw3kXG2sugAjQdSmBFp9HGtuBUqPr43t', 'bc1qrcdfal496r65dw64uqdh5ggupw9zhys3l7r64a9eehesdxlxc3es0leywt', '32zWupKf2WYjvodqYZcGrU8PoSBnfGFJ6c']"
        ],
        [
         "4",
         "3e5a81bfce3e4bf09d6733549686023ce9a2c6310d39cfe0409c7d4db38d0f0e",
         "bc1pje9cuec0qhe85g9z40tzx9h6ylhtysne0t94e3wktuq3u3pxqs6qxt52nx",
         "60.69195594",
         "['38E5R6QeEznyRyFcvBt6Bak1o793HYFpY2', '3NEpVCvMBJaQ8xzaEoXH2sUWmDE2Y97Pj4', '3GV9DzoayQELStzuy7QKzsiCCGF1ewRern', '3BSU6ivykbQqyXUwexESjGNpPoxa6Pc2kC', '3FesLnSKwmpiHNjK1RLWNiF1uZ1tzjV9ie', '3NH1eBb3AXQTQRCQkxZF8wYnm3s4vZPZy8', '35CPFvrhRvyYNdVznBnhL8mkotxDnZ4RmS', '3Akw3kXG2sugAjQdSmBFp9HGtuBUqPr43t', '39jqrcN8jX6wi9AQeK7esYsZT4ZR4VEuPP', '3A35FrkSyoHCoMz4r3vPuAG1QHGpSEQUvZ', '3MvErrzEovupLB71Rjy7qJ42yREEQTMYKj', '3H5k1SePjdXoJuTcuqq1n7xvTiFftrVRUf', '34EMxNbW2MDADHkvDVku5j7N1MKReLUNFP', '3LEwgWExVbqz3k6vHFvnJepM8GEUkriHNg', '3EWkRP8i2hMn6ZTR5UuZYxvSs1gqGgGJo3', '341ajUQyyKF7jJ6szQiMpnCxEvcmr8PHCJ', '3QtNvBSgJqJPDe1qW6iKyEcm57ekb7AANv', '39m3a81eyjCTp6Pm2UNwY8pvZB3xEJsWh5', '3A96hvDeEb2NtAD21sM8PzeKjVrsFGFJoH', '3578jno476DrNNAhirzXDyk9cuEVNL3BAt', '32zWupKf2WYjvodqYZcGrU8PoSBnfGFJ6c', 'bc1qrcdfal496r65dw64uqdh5ggupw9zhys3l7r64a9eehesdxlxc3es0leywt', '3Kt7qYj3Hm8reFt4wbtn3NV2k8itsV64MF', '3C4px9hdRpbCeQ5uXUEoLLZfGa5GUbGk7Y', '3Kt898GW4v4gydcpvu9GSq4eW1ybA8pJdD', '3LCSqnWLRgVPzwSLCE25tZZcRqM9iGmk33', '355PPwqySjxKZoFzSqfUvSi76KhBaCVa2b', '3MxzFjQX7JDop7qJTms8Dt1mNr4Wdk26XE', '37Zrwfinveai7zKt2CvN89Bgf9LqkRVRWo', '3HugBsiHiEgc1t6ZXcnji587PNAZqMeLrn']"
        ],
        [
         "5",
         "4ea187013fdeb262f794285549c4d0e4cee8900db3572abf307efab5f9ab5ab4",
         "bc1qndhmhelkmf098fvck88tvlt4m5rgrpvcdzmhvjm8xkn4wau9m5mq2sh6jp",
         "57.67741771",
         "['bc1qcvnwr5hwk6hku6jwaj603g7zat6uej9ky8atw2rgthz57nvhxrqquzrtgm']"
        ],
        [
         "6",
         "4165b01713c436b622a8312a931c266bebab02fbf799de50be239f44015d6d68",
         "bc1q6p7gurggvh60psyqq4dylm6pdlewrusnr2t7xum5gkxkktetp07sye2eah",
         "50.28433961",
         "['bc1qnkt02kg6e0xllp29u62z9lqxlgx2v6l9eq2nalgqdy8wh9pcwedq3kh5wj']"
        ],
        [
         "7",
         "da610111bae26142eaf02b66998ff70a5cb308f8b104ed27b16491e9521968c2",
         "19tP9NDkXNZTUo8LNJmthc2tTEky8kwnmk",
         "39.83989348",
         "['15rPGbp32DBU4mEcAEtwcEcpx3ZxnUtp1Q']"
        ],
        [
         "8",
         "c9869594d89012014f5a7f954ff5452cf8b6b743b8aa9260705e227cf7ea86a5",
         "bc1qgaa5s7cpdyssdv86lgfndydghtkcgu425z2jmj",
         "36.15070223",
         "['bc1q3ukuvjk6esj4s3kd2306937cdkw2he2tsekhfx']"
        ],
        [
         "9",
         "79e6078bbdb0eb2c3713d74f22ae260fe5f798ce88c37a746c50681a7b021544",
         "bc1qa3phj5uhnuauk6r62cku6r6fl9rawqx4n6d690",
         "35.47843243",
         "['bc1q7qksf47d7pmmkkguhe723evwp3za3u7qt5992j', 'bc1q00wvl0626ma85ljq8knzqsk08wwjwcc8ctwzrs', 'bc1qdqtr588q6yedcu6lptwevfk2m5pk67uwf4vg3r', 'bc1qfta7mgneq80a26hprys7qmw97enkatfj082jvl', 'bc1q622zc8ge5kv4xjrej937e35xd2usyns20m2kds', 'bc1q5sm86dlzqr6ppv9870t4tddxewtmyldrphqsst', 'bc1qfxsmn586etdjjekmf3k47kaynmdxp3a00gq3nj', 'bc1qwnkmfqm8f3hs8gar7vfnw3wtj4hcanjkwxmkgp', 'bc1qtgzfezvx9gvezs4zxc4nq4egfxethh48xumm83', 'bc1qsrxwcsjn97vezu2ch65qrn7t2yln8nymxt6axy', 'bc1qte35pnsdxtp8j93f05dreqlr8qejndyck987cz', 'bc1qvy8vtz6rms9rtymeqcrm8ex95xv8pjumavrdkw', 'bc1qvgl8k2un90r7x7wjarhftw7j2uf8g0tmxjyg67', 'bc1q65rfa2vwk6gs06p59p3z2s3k898emgf5uew0js', 'bc1q8lalpq6txhx4aczv0t4ra4yt80zzcvd8fgqaqn', 'bc1qsm0gz7efq3uk64hfcujtgdnt7fd5v76pc9d02g']"
        ],
        [
         "10",
         "da610111bae26142eaf02b66998ff70a5cb308f8b104ed27b16491e9521968c2",
         "18bYvustaVxkxA5wbh9D9adM4vGDCsB3Hd",
         "33.29307079",
         "['15rPGbp32DBU4mEcAEtwcEcpx3ZxnUtp1Q']"
        ],
        [
         "11",
         "2a9480e8f6d02aa454ceb6c5428b7bd20ce1427317a6ce0e5dd18f1e1eb15d1c",
         "bc1qvzd00zz9jzkmwfnmswhmspryta0f6srmnnj3kr",
         "24.91323426",
         "['3F1486ESEa6e7H3EJ4pRQtaEXNRhavjjy7', '34ePMddFX5GkpkbycEhpLCEJAuw7RTZ1En', '3AXR8zHadmtqE7dwxVYZUuxcBXxyEYndLZ']"
        ],
        [
         "12",
         "5fe4eb0a791e0ad00c6acf29c6bafa7bad6ac68fbb957d08b99541dedf109145",
         "bc1q757dcrl8z9ljrzqscpz52l3eywwadald2mt3eg",
         "24.16",
         "['32STz76CGkmMRMU3yUSQtYLT4DKuWhtSvG', 'bc1quhruqrghgcca950rvhtrg7cpd7u8k6svpzgzmrjy8xyukacl5lkq0r8l2d', 'bc1qckwq96glcduffza909dy2gkwj8mfncxdlqjaz5hld5v55skxr2xsrzejqk', '37DiJ16Ta6rvg8pJseeHq9SCPPuvHn3qCp', '32j8TU8dP6zA5EqF1xqmSih4vXkvjZKyzM']"
        ],
        [
         "13",
         "ed9c6d0cda11d4653df5c557f0c214599423ff2c5c4427f47204f3da9c118e91",
         "bc1qw5y93pl3v6d4nt2r2ww68xhrhvyjmxqxg0fqqy",
         "19.89999",
         "['1PEbgZszaAHu63Zc3BGVLHWQkEaHKHP1rR', 'bc1qdkmq7lg595c7k3aldmaxp7a2k2z6q9nfhdp33a']"
        ],
        [
         "14",
         "d7c49548f57090816ce6077bc55751df27c146366081e31158a74bd7ccea2d97",
         "bc1qynygs8d3ju9cpum9pepmh94qk57tf67paka78g",
         "16.06021547",
         "['bc1qxp2yu6qwvhmcc8r9f3fh7tar5dgnukuwmy3e6c']"
        ],
        [
         "15",
         "6821f1a714071d0bd3ed7a3df4da6e60cb440b6ed55dd7f74bbfb8c98dec6f8c",
         "bc1qynygs8d3ju9cpum9pepmh94qk57tf67paka78g",
         "15",
         "['bc1qhfd8m5qflx7nhq76zn4g6m405z0da4cz0sehwf']"
        ],
        [
         "16",
         "990a2eebb2b0acd02f924ad9db9c518b0d3b16e99f55e05249c03982c0dda2f6",
         "bc1qe3vk4xmn2275vn73vmpy8jtrp5wr3r7q483svd9dtnzw08q05e0slcrgwz",
         "15",
         "['3BA2aaBURbYGYXTad1NaYaswcGeFAPgpsA', '37Zvk7ZtevoUYKEJfMRWkUeuo64gwnsNwW', '3JZVTkamkLTzFqF1nUfiHCEzr9PPsEwgs9']"
        ],
        [
         "17",
         "8dba21254de4e0e91c17f80dcd8631d6680790ef60b10979f65b7945c47a20bc",
         "19tP9NDkXNZTUo8LNJmthc2tTEky8kwnmk",
         "14.3396675",
         "['bc1qrt7rkpswpgmcag7txzf6ps9mvepwgndshqdx6d']"
        ],
        [
         "18",
         "3475f59a139e31b4623f6133ada3d90eb18e3288b8eefcb246713334de7e8df9",
         "bc1q5u9dxnqp73sz9npnu6r8k5dtw72utcywqyt808",
         "11.04217492",
         "['bc1qu2semmfgmgfzvxyrscudfyr0pmvvxlznp76h7u']"
        ],
        [
         "19",
         "da610111bae26142eaf02b66998ff70a5cb308f8b104ed27b16491e9521968c2",
         "bc1qazg2a4at9x64sn0c2482zrlrucjlh57mxt5v33",
         "10",
         "['15rPGbp32DBU4mEcAEtwcEcpx3ZxnUtp1Q']"
        ],
        [
         "20",
         "da610111bae26142eaf02b66998ff70a5cb308f8b104ed27b16491e9521968c2",
         "bc1qxhjsdqasmhcc6gnnag7pgzwztpfc4g0zs8qhj8",
         "10",
         "['15rPGbp32DBU4mEcAEtwcEcpx3ZxnUtp1Q']"
        ],
        [
         "21",
         "3ef0243165435f520b9eae3b4f5743d4447356cc25fc64c995f8437a26b8c1f7",
         "bc1qldkqadl7q5daaah4ty02jlffsa04sknv4t70ef",
         "9.95100095",
         "['bc1qcc6vdrwe8d49qsc0arew9780ju5yt6zqt5qjac']"
        ],
        [
         "22",
         "84244ef613749f09ff6e160465f0f10bc3849c9cb79faae508f9955d567911a0",
         "18iYqYzcnJiUohipJnHSUjtwAgVD1f8Urt",
         "9.25495135",
         "['1BemERGds2w5dMAgnDLCU7wzBMLLSmTsV3']"
        ],
        [
         "23",
         "d287e6eb962e5989bd7b462ffc48a3a1909e6d877b2e34a35909fa6b66d0e9f1",
         "bc1q58ae8mhn9z0vg24dlrzc4vzncgzqc8t3rx0hvg",
         "9.16452031",
         "['bc1q2veag665nlasxdx8hj37selwmmt7q2rjxsnrz9']"
        ],
        [
         "24",
         "e851cf1b1f67bcf49774ffcf1a38d5c7c4f464f6570e270466ba746e252d4e37",
         "1AQLXAB6aXSVbRMjbhSBudLf1kcsbWSEjg",
         "8.99292859",
         "['19ttvhvFzKyMQGZwMbpPRaqKWXrAC4r9Lb', '1B6ThiwmL1zpiQsXmFTe1XVUrsmGpFrwEQ']"
        ],
        [
         "25",
         "06881e9dce6db92ab55dc4e37403d79bd19e9ee3df9b1fb2f2befcee1b4ead69",
         "bc1qy9t3fadnffs8tqsermhlda35n9r74nf24tp9vk",
         "8.24172202",
         "['bc1qy57f7pes77rmck7nhlpexjhsgczvzwyc6fekrlj7x7zqhg9mzx4sup0ag7']"
        ],
        [
         "26",
         "7966453ed3f53fd19d09caf356bd70461503586c8b15341875115f3d46d55fb3",
         "bc1q88zfnu6wjqqpxyaksmc3mcgakwaqt7z68tkw0jx87gdn25fhfkuqy23psm",
         "7.77",
         "['bc1q5x9p784q6jkj4w3cw56h8vejz326yrf6u4tuksgg8kjnfkpg7l5qe8kpz6']"
        ],
        [
         "27",
         "629fefa52d0252d4c7baea6d44033c27bb9a14b6bdffa024b4d000a2274d1ed0",
         "33ze68qZoBE9R4uMtRQGNnvgFTYN4sPBUq",
         "7.67165093",
         "['3QW3jqpvr6SGkoHe4PpxHHpGpb48kXLJM1', '363njA4qmbAnrr4UhyDRKkVRjXWWcLjTNR', '3FzBC1dZvrrBy3b1UbB1kuZKjdYJJpkPkN', '36xKwQXXMzgScgxjwagB1w589SYdnLL4Z9', '3HhH89V9h6ZNAJ1nuPChWGgDeRfs6jc59t', '35pM13jRXaNNfcEcQt1oDNzNCU2cVPKSsD', '3NWLYsa92orzeR9RyGxvHJkE5XUabLnSTr', '3881RcvR5DyKb58qZbiVzsUMQxcYNmkRZA', '3A19TGPd2R5sceLKcjtR6WQnmiBcLQ7fib', '3LNB5F9ZJaRKtJ3F1FGmvDMrWyzevKYVjJ', '3M2tYFKwcFE4MpGtqBTp1Mq3eRMve4trVu', '39D4AbFnCaosgsfZ9cpuCafy94kWvfT1gc', '3GtFth8CF2FUZt3at8fawp5VhwcaZXUMmG', '3EeqoinHkn3AMBHeciy4xj5mCpwNvr5Z8d', '3ASiWfnAJJc2tCgvKYo1LCFPxz8J9arVfZ', '3G26f4tBDNvAU3WdNiK2XYGZ64sg6vKBe1', '3AJaGCqEuQpz3UkC8AH7qgBTw5pc1sJyBf', '3GSdo2oC7iQ3n18SgWAPj9Z9czPgprQD1A', '3AiabQRXfjw9b2pam859geXGiHTZgYQWNX', '372Q7mnoYnXN2hnVviLmCkVzSWNbhYSoYo', '39nntB3DCeYyV4KNRT2dYnGJFY317W1UEa', '3BkYGHNnDpnWdpvZjiSMS3vpv9hU3ptaCm', '345HLCWEV83GsbpXN8FVyypc1EUuWdYyiD', '3MqW5cLuGzj7YdyZpHGFcSur32mBQyBxTw', '38UqsMvDB2Y7PNJVmuNFNBQMhKCPP9c2cY', '357hueEgHxC4Zn9X9qGsyrpPjNeGod873m', '3Jd9Hk4RAF6ThnUMZvT9cAE4dN9JujvgwP', '3LuUPFZaV7i9vCD9sDgJfZzYCvqxUuK5AM', '3HvSicqr6sd8EBrqRhSg4TaQiJWpihFpZ6', '3QKLnS68D26kk5cC7xTRwe5r3JQiBW5jR6', '3KnpxGHdSANbmwhmWQCp7wCKhVGUzAPToY', '3BjtVeGVmAybWn6DLTCxc1YkWE2yUDCWLn', '33wSLS66xMBvecP4mKtgLqgJRkkiUjYBWR', '3CJzN11VAh1o1R1GhWnBd5GjXTkd5pSdou', '3FJyQcFaMFLge4PBeMBeLo1hQKN2J79xBV', '3PcjByFqvF1Pi9W9d9ECqZzMDeomqdeGBR', '32pXNG4W5Ft2LqVKVQWwpyZK8EiMUM7HRN', '357oMtae2suZPi6m183Bpfe1Rng6v2MbCH', '33Gjj2dmzWgA59ZZpYcSVJuomq5SGLy47H', '3KtyxzYe5Vuce8ityoD1F3Frij65ZbRKzj', '33hTsAvex1uXycvwsmEHfszAJUkLr5X8ib', '3QxyPhSxFcBGHyQGd8rn7xq37jpLtPaFhW', '34DMtJQ6ZYPPDgGMQcrdZzYAWKuWEbwZKg', '31phhmaEyzidh7d4JKj44fmbUa4HCkYRoi', '3CE6gHNStTbMEtZxXyuqEFA2BzGnE2u3pq', '38FNAL5jV81A45aFSeMqcNCTrCjLKG7iV7', '3QWxbizTuUtMTpTFGqBRyacqhRY1DDsVsL', '3GCqCGaU6cF8chXsHPq6imFN6497DVtzqi', '39A3wRzHLtt3PmBcmLnafP7bgEH4ng4Gk9', '3P8ypk92EHqZgbhbHYBh4z6JjCQ8Hdf56C', '3EHRTovkoQSLTBZBXPYiUc4ZsvoSbMSxBd', '3MLN18ATFaLrtuiP4byt2YDFn3vffGKJ2x', '3LeonQ3MMoXnQKdVAdPEUD5sHfkhUEWKyE', '3NVWPS7qpT2bSnes6Z5j5PTVHgdQf4enSs', '3DixNzRG57MnRd19ZS5RgRA4rRAohAH2MB', '33uzcCjhFGNgRkpHo8TDomxbv38VA69MN8', '3BjCAtiPhaJGJGFogmZRzFyoTJMUgir76Z', '3MHeCoU3AdDk92YrBguhUdS6UK3EJKgPX2', '37NYr2Qk3VDKUCR5acrXzNXzAk619Phq2Z', '3Mmdt7wYrEV6QCcXiZavkBUckJseWiYn4M', '3AeSBvuBxydaLiYyuvmegGqsiDddcC1MvZ', '3NojvjHRB56S4apxMfEf97ed3y5mmQwBPp', '34GpRkkdMvwiA53ix4bsX2SANaNevzEmhZ', '3F5zA1PuKKc2ADNMivNgPign4ddXGhzwdz', '3CSC4iW7AcFJBoLPQeCoHbWeMDTgcTemEE', '3JHUhgMeALqb9sYFWTzC1chK95ijsp7KSk', '3KGt8CAGGzkwbgdf1wD3LwNz29iNTwCJpb', '3Jpay3tj31vuZZuM6QHzSp7CvvP8jDhrjT', '3NVr3viD182s3yqAMfNiqzaKSX2GpWkCq3', '33T8uttiGgxN4V69hor4QNb5voPKLCD6oM', '3LYkXoGMwLb1iMBqshbFCWJJuhZ9xoNPwR', '3BSxDpLNUSVjBwELvieP9xFg95h59jf1Tm', '3Hnk8iC7Mc5Nnk5NWPya2cAoU8968pzmKA', '33tzoxpDTtUkD3R6Q65EiH2XxwbzwXtbEM', '3KcoGpoh1xsz1gwmgBAX3MTA2NZbVyzA2h', '3GjeKeNztXmWaC5qw4khRA4PKTibS3Ht7Z', '3JEXHMWH6wzZc8z4AroQQrt3Z5xu99pRzE', '36dbfq5Re88Smk9X9Hdi6PogkGEL44h3PC', '3QNhyR7HxhCsYTqyd6LYD3ntNkYwhJhxoU', '3LysKtfmyxxvVhhj5iDsKe7CgiwJ8Getru', '39rHSzKkwguHLrNmdwn4y3G4Qpv5KKMtKa', '348L6UxA2o49Uf1j527CUKdNv3U1NNhtWC', '3FM6NezRzSXnKbVMJ4JNVXDZBVkMU2MB4Q', '3FwZ1wKCfQ7NXcZ1HRy5M8wHthF6eErceU', '3BvQZNZQSMF97TsB15zJA6EFmExkmUVYsq', '3KSoLoJUj5tRTtow6CqbSYk52PwAicBVBC', '3CGqMYarX6UyRov8VU97GKQiA6PQQqhBY1', '33C8mvMBcfiVtCguGmHpLg1Cv3nFmCBXYC', '33zAnTt5ERcFiCpvs2HDX3piu37puHGe9M', '3EzogTEbD6bLtpEkaRUWzuxAH2Ty33zLgD', '3JVVrTRpGMCXSTGFMah1P84RMT6PzpdMeW', '3Eomv77C27gz3HsGYJ38oyaXYXXhGwpRbD', '3DYWY7AyvkDsVFpGbjPr2ncDjWHqnEzkKD', '3K167FiemoeKbJR7yoMdqk7PKFTLCz5Gp1', '3DTSTZ3ju1d9KBodM2MiEgyoeNMhoiZo4a', '3BTzqQg6xrysoZ9htkedhy4JJrqEUFoPPf', '3Qnf4sd9CPkCFKCEBe4dv4Zh6EiLopkVRv', '3NWxQ1jPAsesmiUr2bdxmiq1Ft2ThGo9eX', '33XDR3ogejbBhUfvw3z3xgYKADWzkx6Xhq', '3HSfWmTbJA8eBm44ieqMgKi1nERZkZY8ZK', '38JHehN5tz2Rqvrn2daYB78dCGXFgL6bAF', '3251QTzq6WJF6r2pTjLBoaSXNh63M5pmo5', '3LsVeHjXNZSacDTY7pZVemMoEiAUDVFovc', '3MrUpWsnzHH742s2YDQHZiY6ZRujxFpvYz', '35Cf1EqJFXbvn5Ujvehax5KPwtA8MnPBvy', '3BNwEz1oeg9tHJYfMVDpzyffEZzeVg5uHb', '35yuDDRTwbKyH3TcxiaNW4RsaQ4n5HKBPV', '3DCwJ7Ltn2gsJ76PHbDU7x5wcgipXzgXKv', '33PesdPtTGqQotvuPjTCYVyqfUPf1vqWs8', '3NuRShCnR2tZyuVY93FFYu92SQhz1HDxmB', '3PzUgyksem4nWwcp7ZRwfQiw5KNeLYmVrK', '38BFbUEUGcPzBvPQV2zxPiXqFhnTHJ1LFE', '3Jws7cY1hHZnD1EJVg8NVRUDJC4X3nuPsY', '351ynwCvVawd9V3YakzRvi33WnENbLRrpa', '3ARCPHkEySLMFfABnuaBC9ZuzBimgGdRVm', '3LAn6zavSUFLSMEBE364SAPiuCyoiXTHKH', '3JqczH7vyJJ5EwUveX34cjdWh8YEY7uZQD', '3PjjpF8f9LMgRn92PP3sjyCqXBtBbdcZDu', '3AohaMUabtDHAjBkMLw3wtDHjSWMJeiTNh', '3GqtTd28YPazQKjuGzPmJ2iUBiY4ejNJLQ', '3FkJ34SjsJScFWge11Kz5AXgaqkj2PQGdz', '3QP4fRKp6EfzRRtcng6u77jEWLBKEYtv5s', '39m2FoiEMMZXx54wYTcGX8WoofJKh52GeH', '3GWgoPd84fJaaAk4ZvkimTd4uzcp9UMrsS', '3LcuirmToXdzXjA1KNCfNPNB9zR9kzF8V9']"
        ],
        [
         "28",
         "ed9c6d0cda11d4653df5c557f0c214599423ff2c5c4427f47204f3da9c118e91",
         "bc1qdkmq7lg595c7k3aldmaxp7a2k2z6q9nfhdp33a",
         "6.80896589",
         "['1PEbgZszaAHu63Zc3BGVLHWQkEaHKHP1rR']"
        ],
        [
         "29",
         "4165b01713c436b622a8312a931c266bebab02fbf799de50be239f44015d6d68",
         "bc1qqrkgdtcyupzzl8uyzf2wy8yp7qm59h007xr48h",
         "6.72418184",
         "['bc1qnkt02kg6e0xllp29u62z9lqxlgx2v6l9eq2nalgqdy8wh9pcwedq3kh5wj']"
        ],
        [
         "30",
         "5cb649a08f17a8d53e939b6db9233e21add171758b077e4d065643bbea1cd4a1",
         "bc1q5h54je2wn3h3g62tzs25tdt6m4dw2hep3emvps",
         "6.52338796",
         "['bc1qfyh4es0p8jak79kf6xuqf8mqvxk2nv62vr86xw']"
        ],
        [
         "31",
         "119f96f50054c9339de58abc8272547819d98e05bdf757ec1a6f86b8223ed284",
         "3P5EUXLPJwvGBWivCANdyuHHEzHGM6FMeR",
         "6.0062657",
         "['bc1qm34lsc65zpw79lxes69zkqmk6ee3ewf0j77s3h']"
        ],
        [
         "32",
         "1d8ad6d73988e9edd1fca00962d095d2f77836a3ec2e5e230a45a3886ee12608",
         "3DpBDWfJzW23aGBga7Y2QD4mfV1RSJxF4y",
         "5.64738758",
         "['3CGAXkPEW77CvHyPeNPTJJ65uFNw3j6Les', '3GCwbZwUUrmq3y9vtpKXj5y3Cy6UXb5bXN']"
        ],
        [
         "33",
         "da610111bae26142eaf02b66998ff70a5cb308f8b104ed27b16491e9521968c2",
         "bc1qn62m3ra7lqu3kajz62vr2pzj202uu87r99r3w6",
         "5.4164695",
         "['15rPGbp32DBU4mEcAEtwcEcpx3ZxnUtp1Q']"
        ],
        [
         "34",
         "45b0d261bcd7abf3077d95387414211b21e7a086b463a88c3c8120aad0c7b1e4",
         "3B4ER84Qf8XM89kiFa5rtzoX6trLxqtipk",
         "5.09996592",
         "['3KyTfuag5jPwjZccA9D7FQkqmsZSp1eV8J']"
        ],
        [
         "35",
         "823ef00b4c3e8fd2725d64e90de422141d718c54b8e9edba60295a9b34a872e9",
         "bc1qt5kqqnr7aklczhcyqt7erpsd9pyafdc54u2tyg",
         "5.00559002",
         "['bc1qnvgp8rtf2cykj4wkxy6ng9vjept72jargtsrma']"
        ],
        [
         "36",
         "79e6078bbdb0eb2c3713d74f22ae260fe5f798ce88c37a746c50681a7b021544",
         "bc1qnmjcsfe850zy538kdj9hneh0ftffpkg0jw2f97",
         "5",
         "['bc1q7qksf47d7pmmkkguhe723evwp3za3u7qt5992j', 'bc1q5sm86dlzqr6ppv9870t4tddxewtmyldrphqsst', 'bc1qvgl8k2un90r7x7wjarhftw7j2uf8g0tmxjyg67', 'bc1q8lalpq6txhx4aczv0t4ra4yt80zzcvd8fgqaqn', 'bc1qfxsmn586etdjjekmf3k47kaynmdxp3a00gq3nj', 'bc1qfta7mgneq80a26hprys7qmw97enkatfj082jvl', 'bc1q00wvl0626ma85ljq8knzqsk08wwjwcc8ctwzrs', 'bc1qa3phj5uhnuauk6r62cku6r6fl9rawqx4n6d690', 'bc1qwnkmfqm8f3hs8gar7vfnw3wtj4hcanjkwxmkgp', 'bc1q65rfa2vwk6gs06p59p3z2s3k898emgf5uew0js', 'bc1qsm0gz7efq3uk64hfcujtgdnt7fd5v76pc9d02g', 'bc1qvy8vtz6rms9rtymeqcrm8ex95xv8pjumavrdkw', 'bc1qsrxwcsjn97vezu2ch65qrn7t2yln8nymxt6axy', 'bc1qdqtr588q6yedcu6lptwevfk2m5pk67uwf4vg3r', 'bc1q622zc8ge5kv4xjrej937e35xd2usyns20m2kds', 'bc1qtgzfezvx9gvezs4zxc4nq4egfxethh48xumm83', 'bc1qte35pnsdxtp8j93f05dreqlr8qejndyck987cz']"
        ],
        [
         "37",
         "22471c19e0b02b97410902c76bfca1c9fd236698b04421bb9192516b79023c98",
         "1AR9sWV7ZR2C2ohGSDDKXipCfZ3RLGynHM",
         "4.999901",
         "['3GTPEgXtX3DbnUKNurjaLE1KpQEXfAMPhH']"
        ],
        [
         "38",
         "88f61059d7cc4b8c515d80abef181809af695b121d7d5e34b603139f717d174d",
         "bc1qy50nzn9j4squezmxu66gpjf3sg55gnn2wmr67k",
         "4.99971651",
         "['bc1qydyhz6hrhlvdq9kk46llh082wqnhhlsv5an9t5']"
        ],
        [
         "39",
         "a159af64f12cf6f1c6719c632caf4d782dc9401f1e0ee2395308a5f25c5beaec",
         "bc1q6nt0c44jk5xeszunmw78wwqp07ga5vj3npmv9p",
         "4.49788803",
         "['bc1q76qjk8vj9eyp40dwl684arqxwjwhevc0lfxmp2']"
        ],
        [
         "40",
         "c84440e06ba1981da0b5fbdbf6b28879a89127e9744d89e7f1499eab574104ec",
         "bc1qzt6auuylvwm228fzap9h07l9apa9q7lgzvrk8atuxeumd62set0qe4zn0n",
         "4.45805104",
         "['bc1qxdg22e5gadvwr7tyma39t29dmva5u9f4ua5rmraxwhu22dp2p3jqdm9d3q']"
        ],
        [
         "41",
         "4a10f4665de9deaa1eda5aa9beb7c834f8b0c8a3bde7fab74130fa638cc65885",
         "1AR9sWV7ZR2C2ohGSDDKXipCfZ3RLGynHM",
         "4.09763211",
         "['3GTPEgXtX3DbnUKNurjaLE1KpQEXfAMPhH']"
        ],
        [
         "42",
         "ccbb063cfb29c4a2584d77937ad4f1f840fc100119c740df8a4b15deaf3b64e7",
         "1AR9sWV7ZR2C2ohGSDDKXipCfZ3RLGynHM",
         "3.999901",
         "['3GTPEgXtX3DbnUKNurjaLE1KpQEXfAMPhH']"
        ],
        [
         "43",
         "01ef60650f6e293f71772a793725ddb29055b78e897d7957e7191b9dd978fb45",
         "1Ma2JA5jxzVYtUue1QhyR7gPK9oBGEVxwH",
         "3.48039284",
         "['bc1qk4mthja60ug3sh7te0m22k0l4hfuaenref6ryx', 'bc1qjdr3xf3euhqj6a5u9ruxnvd3t40dhvcnk9rda8', 'bc1ql3tlcprrwfmvtt3mmt7knf2kmjhnuqg75er4q6', 'bc1qsy7nv6nltu9vsn507mpxg37vm07crhccwr0k48']"
        ],
        [
         "44",
         "2a5114778698da227dc5862bc0e46e835b402f47f2dd892ebcf584a618931f8e",
         "bc1qns9f7yfx3ry9lj6yz7c9er0vwa0ye2eklpzqfw",
         "3.45567351",
         "['bc1qz07t5gte0qlj9eylppuac4js7d2wmrg7ch06ea', 'bc1q88sf4dw5gjm8rrernzh3wg3pns2fkyta04rfnj', 'bc1qmxjrvtumc5c25gl0y67rvxvlfsf78glj3f2w4l', 'bc1q4fcamqdusuk7paaxwfvyag0qjz9d692mddvj37', 'bc1q0f8dtwrze4e2mq2f7vrkws07af264whga5zd6j', 'bc1qj02dr4chvucvf9fj5850hh7rj5x5ph3l4gcluq', 'bc1qzfdvxs6xf099q2xepxmv39lljdecz2zpucpwem', 'bc1qkde3ng3fq4cgjwpt4f2vf4anpj0vm9ftq2zfly', 'bc1qhnzw6lt7xg55zvdmjy4cn5aps3dhrdwdmhrs9e', 'bc1q0rf08p7zscf9pm22ggemm4ehxpnqxu4yqnyra6', 'bc1qy5scqrs656mprfe72ya6hd0jy3ryk44s97e2g5', 'bc1q72f4glm4dtsqflj0f3suwewhyn394t6tl5c8th', 'bc1qn7chjmveewzl98mg5u9y5xue3ea0qjr5lk5cwh', 'bc1qwmxhc24geeppdk2tzw4gpkepe4q0x3nhdmlye9', 'bc1qpvnhd2eygcwww4j7c8mc49zz9vtldwpmaumdvy', 'bc1qtegygw3j626gpdfcp2zzfeupqtsgslaem45vc3', 'bc1q7hkcemv2eqkpknp2xnvq7wqw0ksmtjzk2u6eyf', 'bc1qhthd0jgw5vqnxgwu36hx3al9gfp5dahs0mfn92', 'bc1qyvhq5egprnm5nd6v3th9mmkzdl60hulum4slfw', 'bc1qkrh427ry3zwsuqw49j6r2selayypn5nqxjmllp', 'bc1qxanze2gsgvwlrmhg0dr5tp07szx0swtj0lsxzn', 'bc1q4r8ts5gjpjsvdt7q53698a6jmu3ardms0ltmt0', 'bc1qsxrc03997y2eykpryp0ha8ylfq3sytgdpe30cv', 'bc1q74je44j88trwsr0cq89gnjtgky8turykhf3n4v', 'bc1q0xffsutr80274xkse53w7w8t6n5lm273krcrnl', 'bc1qurv0j3k9snv9hct3gz4e43jmvwyvsvtcaplurv', 'bc1qynk0xd7unpd35z3r58amtyqtt4xk390hyzavgd', 'bc1qpe9aew4h9vwey289ttzfx235hvkcfsw92w6uwf', 'bc1q85mnxymj2ec09dgmll22jy50fe2nc0kq9c6mf2', 'bc1qlfkvgayrnjmuhxc3rsnt3wd5qvv9a7ej7x37p7', 'bc1qyl9pyeg4km32mq63pghl0c0g2rhzxwv4mnkwzc', 'bc1qz6sqsnh8pse5hyf4fata2jezytzctkhpga0khl', 'bc1qq3rmz9gm32m59pgq39te39kuh8kgp6plnsn8th', 'bc1q8d35qa4gsxp0qvlt8pxmudfrspf368dnzql4x6', 'bc1qunh652escmcx3m92d60s0ls3p7ffrkupmhucp2', 'bc1qq7zjrftlwk7ayr0nj0l7kcqzznyzxtt3upxru3', 'bc1q9ejlaska0z25hjutdx5we37r7qjkvlxzxxjfgc', 'bc1qhvnkdfwd9qddddc4g3qhsctjz372zy3h0gl9v8', 'bc1qfvjunm6wzc9usfvag7fa4jg8dkuqda72ypaaaw', 'bc1qtmsz3whtkfp0rucy4etmtap68utrwc89ms5k5x', 'bc1q4zt3t8xknvksclt7fnl9qnypnwv554ygutxfu8', 'bc1qagk693ddts7m76udn3r8xdg8dsfarqvlrse6ae', 'bc1q40m2e7hkf2sp53lddqf8rqwwr8lrsukw5hdj30', 'bc1q9kj9gje07yu2le0dx0vq0cd4eufzn3tzzkn7ww', 'bc1qdnt848m75klz46q0lvvjp7s3n7hnyssg8xp5me', 'bc1q6y2hmq60na6nngt5avq44j3d8253k5edq0epla', 'bc1qdk3x23atqqmn65fan0wqpp9ddqdvenfad9ya87', 'bc1qzmh9ywf6t3kmwjkm7t7swrur4wxqqaf5pnzfht', 'bc1q44ewfa0gqtgj8ppnyp5g4wqewgvz2yhtn7n2s7', 'bc1q83w37k6a2je36cl5hsvrvtqn4pgc928d660dxa', 'bc1qfk3e2l59lyyr72faf3sxlukutymzxgw7xlyl3d', 'bc1qarxmpwg44tkzlga23ekwtrlz9cfazc7yzcnzw7', 'bc1q3zr0crzth34nnwmytvfjcn7cvp95wc3ytun7ns', 'bc1q8mq8dhz0dwlgdnrys3krcedahf6u6cqxtqxrf5', 'bc1qax8xkpwjc0t5p5sy9s8ra8gk90ralgh2vj988j', 'bc1q3l70lnu0h5aes9rdaq8u9ehhhcnxqpz0vslfga', 'bc1qat9s8d8454q3e3v6hu5pwnlw25n4rdtnxckanc', 'bc1q09t6aphj35lhz4un2pxjr68kugps44p07tqav4', 'bc1qw4kfmh8lnrw6kawt3utnq8eurswgfqhmv4yt6x', 'bc1qa2hvxf78306mawe6pc4kzf20q8pa3q7jx9gyjr', 'bc1qmf8tspq96tt4aptntw4z992t4g5rt2fn2aslg6', 'bc1qdg3wzllc90c4ccgx5qmfzdqq3xhcrf4mspgzuz', 'bc1qhl88drzgacu3cv6kthxswuljqrx58kl7kvpr0m', 'bc1qqmryl8evhuz2m7l7a9pwpf6y0p6fglc400eqjs', 'bc1qcmykze94lmum0405nhyvl5s36z9jm59ekt0zg2', 'bc1qz7c5taa0ytrnfh5qh0fp6cycun6sl6a5tr9gdz', 'bc1qds0ekemtftackxkxwklzlcpgndcfnye8xa9h4f', 'bc1qm0wj4rpqts68hu98f7a6yxst0gkeh5c3m08jkp']"
        ],
        [
         "45",
         "40364f81db3c9efb13177947aed9b3cc15ee10871133de31243bb3ad4ff4fa5e",
         "bc1qcpf0n00lmmxpxxefscl8cf0qsnzchz9kqzhjxdp97hjx34yegeeqacv76g",
         "3.44",
         "['bc1qlx87a27s84ngdyveaqmcanxre8n4pk6lw998kfncqkndeqdmuuzs74zh0v']"
        ],
        [
         "46",
         "6861c53978d7d0651af247ee3fa8149d65159a27894a34b26303d7fa15406813",
         "bc1qw7rpq36x8c5pqya9ymajvw568wntj6m2fxz92z",
         "3.06928652",
         "['bc1qm7nx7a2xth2jv5ywrmcg3az3vsf2u67dck8lv7']"
        ],
        [
         "47",
         "73ddb993cb23f00dcee7f1fad8916e21ef271d054ef6ca38344360727395b5bf",
         "35i6pQAN2YcD2cmAB78fbYxWPgcqaMNhh9",
         "3.00216456",
         "['3EAfJ7q7HrshHoiWZ4i7v9hfkMepbaBVwN', '3EJ85VXN1DtyrUu3es9sTom7DK3GVvokfk', '34iZzLKXVJ7n6P5u8zhXqnpYCNaDvJQKLF']"
        ],
        [
         "48",
         "c9869594d89012014f5a7f954ff5452cf8b6b743b8aa9260705e227cf7ea86a5",
         "339Ns8CiSKX2KHBZ6SkxxXuT53uGiuTQkU",
         "3",
         "['bc1q3ukuvjk6esj4s3kd2306937cdkw2he2tsekhfx']"
        ],
        [
         "49",
         "79e04ccf68606e1ef6b5f739cc85ba2d9030f8c8e5a04b58f654b32c11318ba1",
         "3DGxAYYUA61WrrdbBac8Ra9eA9peAQwTJF",
         "3",
         "['1A6K1e7dABq461TwFxcuZBbLzCPDnJWh9B']"
        ]
       ],
       "shape": {
        "columns": 4,
        "rows": 92
       }
      },
      "text/html": [
       "<div>\n",
       "<style scoped>\n",
       "    .dataframe tbody tr th:only-of-type {\n",
       "        vertical-align: middle;\n",
       "    }\n",
       "\n",
       "    .dataframe tbody tr th {\n",
       "        vertical-align: top;\n",
       "    }\n",
       "\n",
       "    .dataframe thead th {\n",
       "        text-align: right;\n",
       "    }\n",
       "</style>\n",
       "<table border=\"1\" class=\"dataframe\">\n",
       "  <thead>\n",
       "    <tr style=\"text-align: right;\">\n",
       "      <th></th>\n",
       "      <th>tx_hash</th>\n",
       "      <th>output_address</th>\n",
       "      <th>value</th>\n",
       "      <th>input_addresses</th>\n",
       "    </tr>\n",
       "  </thead>\n",
       "  <tbody>\n",
       "    <tr>\n",
       "      <th>0</th>\n",
       "      <td>3ba5fa8c6b7a9c70af2fd5e6bf9b159e3181c2a4a59ab9...</td>\n",
       "      <td>16scPoahbWZbz1hnLKJQ4KCz21nfMs2Rko</td>\n",
       "      <td>461.81202008</td>\n",
       "      <td>[1Af1SdEZiCNGX5TZwvoReGNpohkB1mrSJE]</td>\n",
       "    </tr>\n",
       "    <tr>\n",
       "      <th>1</th>\n",
       "      <td>3f55299ddf3cc3a0f43d5fd84bc3fb90083bd106654839...</td>\n",
       "      <td>17aoxXuaHDtRprwUMMEM9P4jUtQjPrEWX</td>\n",
       "      <td>84.84626999</td>\n",
       "      <td>[324H9uyTV9bPgAVgmdJNxPKKKZmowk5CYq]</td>\n",
       "    </tr>\n",
       "    <tr>\n",
       "      <th>2</th>\n",
       "      <td>72b6c5e42dd313cf30bc6c99693efa985c494eb3abc07a...</td>\n",
       "      <td>bc1qtprs2058jcrxk6jvg9a32rthwlh8l9u0kum384</td>\n",
       "      <td>78.99116759</td>\n",
       "      <td>[bc1qctkffmj8mg08002y483fkjhz7cjlm3g4m862rf]</td>\n",
       "    </tr>\n",
       "    <tr>\n",
       "      <th>3</th>\n",
       "      <td>3e5a81bfce3e4bf09d6733549686023ce9a2c6310d39cf...</td>\n",
       "      <td>bc1qz8z9wnx4cav4qam8wcdnvld8cm3w0rc7xxp60am24f...</td>\n",
       "      <td>75.76216739</td>\n",
       "      <td>[3NH1eBb3AXQTQRCQkxZF8wYnm3s4vZPZy8, 3A35FrkSy...</td>\n",
       "    </tr>\n",
       "    <tr>\n",
       "      <th>4</th>\n",
       "      <td>3e5a81bfce3e4bf09d6733549686023ce9a2c6310d39cf...</td>\n",
       "      <td>bc1pje9cuec0qhe85g9z40tzx9h6ylhtysne0t94e3wktu...</td>\n",
       "      <td>60.69195594</td>\n",
       "      <td>[38E5R6QeEznyRyFcvBt6Bak1o793HYFpY2, 3NEpVCvMB...</td>\n",
       "    </tr>\n",
       "    <tr>\n",
       "      <th>...</th>\n",
       "      <td>...</td>\n",
       "      <td>...</td>\n",
       "      <td>...</td>\n",
       "      <td>...</td>\n",
       "    </tr>\n",
       "    <tr>\n",
       "      <th>87</th>\n",
       "      <td>da610111bae26142eaf02b66998ff70a5cb308f8b104ed...</td>\n",
       "      <td>bc1qfjwdpq5zxsf980spjfqt4jf4l68af7vyynszy9</td>\n",
       "      <td>1.01569441</td>\n",
       "      <td>[15rPGbp32DBU4mEcAEtwcEcpx3ZxnUtp1Q]</td>\n",
       "    </tr>\n",
       "    <tr>\n",
       "      <th>88</th>\n",
       "      <td>3e5a81bfce3e4bf09d6733549686023ce9a2c6310d39cf...</td>\n",
       "      <td>bc1qqjl3d0ysvea7nwqanrwv7r22mlvgv88c7p0dm3</td>\n",
       "      <td>1</td>\n",
       "      <td>[35CPFvrhRvyYNdVznBnhL8mkotxDnZ4RmS, bc1qrcdfa...</td>\n",
       "    </tr>\n",
       "    <tr>\n",
       "      <th>89</th>\n",
       "      <td>72b6c5e42dd313cf30bc6c99693efa985c494eb3abc07a...</td>\n",
       "      <td>bc1pvxmfhg04v32vsdpzg98pu44vw73lljeyj009ff0f99...</td>\n",
       "      <td>1</td>\n",
       "      <td>[bc1qctkffmj8mg08002y483fkjhz7cjlm3g4m862rf]</td>\n",
       "    </tr>\n",
       "    <tr>\n",
       "      <th>90</th>\n",
       "      <td>40bfacbeaaa3113e7843fd71bbc3d3097e61547f814012...</td>\n",
       "      <td>bc1qlxvpzuxdk3h8m5yx6j0yhq45pw3exnceymg7f9</td>\n",
       "      <td>1</td>\n",
       "      <td>[3Msph4hwNgQX9SNujmoFBufkYvqYWCDztx]</td>\n",
       "    </tr>\n",
       "    <tr>\n",
       "      <th>91</th>\n",
       "      <td>cf2a6ccaaab764621e013b4a4ebe4c733dfca2a4607b19...</td>\n",
       "      <td>bc1qd2tdzml3updwtscpdd7ut7f95fjznp03vvh32a</td>\n",
       "      <td>1</td>\n",
       "      <td>[bc1qrklwswc8rh3qjxtt65f243ztr8x3hw2fsgu4xl, b...</td>\n",
       "    </tr>\n",
       "  </tbody>\n",
       "</table>\n",
       "<p>92 rows × 4 columns</p>\n",
       "</div>"
      ],
      "text/plain": [
       "                                              tx_hash  \\\n",
       "0   3ba5fa8c6b7a9c70af2fd5e6bf9b159e3181c2a4a59ab9...   \n",
       "1   3f55299ddf3cc3a0f43d5fd84bc3fb90083bd106654839...   \n",
       "2   72b6c5e42dd313cf30bc6c99693efa985c494eb3abc07a...   \n",
       "3   3e5a81bfce3e4bf09d6733549686023ce9a2c6310d39cf...   \n",
       "4   3e5a81bfce3e4bf09d6733549686023ce9a2c6310d39cf...   \n",
       "..                                                ...   \n",
       "87  da610111bae26142eaf02b66998ff70a5cb308f8b104ed...   \n",
       "88  3e5a81bfce3e4bf09d6733549686023ce9a2c6310d39cf...   \n",
       "89  72b6c5e42dd313cf30bc6c99693efa985c494eb3abc07a...   \n",
       "90  40bfacbeaaa3113e7843fd71bbc3d3097e61547f814012...   \n",
       "91  cf2a6ccaaab764621e013b4a4ebe4c733dfca2a4607b19...   \n",
       "\n",
       "                                       output_address         value  \\\n",
       "0                  16scPoahbWZbz1hnLKJQ4KCz21nfMs2Rko  461.81202008   \n",
       "1                   17aoxXuaHDtRprwUMMEM9P4jUtQjPrEWX   84.84626999   \n",
       "2          bc1qtprs2058jcrxk6jvg9a32rthwlh8l9u0kum384   78.99116759   \n",
       "3   bc1qz8z9wnx4cav4qam8wcdnvld8cm3w0rc7xxp60am24f...   75.76216739   \n",
       "4   bc1pje9cuec0qhe85g9z40tzx9h6ylhtysne0t94e3wktu...   60.69195594   \n",
       "..                                                ...           ...   \n",
       "87         bc1qfjwdpq5zxsf980spjfqt4jf4l68af7vyynszy9    1.01569441   \n",
       "88         bc1qqjl3d0ysvea7nwqanrwv7r22mlvgv88c7p0dm3             1   \n",
       "89  bc1pvxmfhg04v32vsdpzg98pu44vw73lljeyj009ff0f99...             1   \n",
       "90         bc1qlxvpzuxdk3h8m5yx6j0yhq45pw3exnceymg7f9             1   \n",
       "91         bc1qd2tdzml3updwtscpdd7ut7f95fjznp03vvh32a             1   \n",
       "\n",
       "                                      input_addresses  \n",
       "0                [1Af1SdEZiCNGX5TZwvoReGNpohkB1mrSJE]  \n",
       "1                [324H9uyTV9bPgAVgmdJNxPKKKZmowk5CYq]  \n",
       "2        [bc1qctkffmj8mg08002y483fkjhz7cjlm3g4m862rf]  \n",
       "3   [3NH1eBb3AXQTQRCQkxZF8wYnm3s4vZPZy8, 3A35FrkSy...  \n",
       "4   [38E5R6QeEznyRyFcvBt6Bak1o793HYFpY2, 3NEpVCvMB...  \n",
       "..                                                ...  \n",
       "87               [15rPGbp32DBU4mEcAEtwcEcpx3ZxnUtp1Q]  \n",
       "88  [35CPFvrhRvyYNdVznBnhL8mkotxDnZ4RmS, bc1qrcdfa...  \n",
       "89       [bc1qctkffmj8mg08002y483fkjhz7cjlm3g4m862rf]  \n",
       "90               [3Msph4hwNgQX9SNujmoFBufkYvqYWCDztx]  \n",
       "91  [bc1qrklwswc8rh3qjxtt65f243ztr8x3hw2fsgu4xl, b...  \n",
       "\n",
       "[92 rows x 4 columns]"
      ]
     },
     "execution_count": 4,
     "metadata": {},
     "output_type": "execute_result"
    }
   ],
   "source": [
    "df = result.DataFrame()\n",
    "df"
   ]
  },
  {
   "cell_type": "markdown",
   "id": "028cc5ca",
   "metadata": {},
   "source": [
    "### Use Elementus API to retrieve entity attributions for input and output addresses"
   ]
  },
  {
   "cell_type": "code",
   "execution_count": 5,
   "id": "4c73f07c",
   "metadata": {},
   "outputs": [
    {
     "data": {
      "text/plain": [
       "307"
      ]
     },
     "execution_count": 5,
     "metadata": {},
     "output_type": "execute_result"
    }
   ],
   "source": [
    "client = ElementusClient(api_key=ELEMENTUS_API_KEY)\n",
    "\n",
    "# Check API health\n",
    "is_healthy = await client.check_health()\n",
    "\n",
    "output_addresses = df['output_address'].unique().tolist()\n",
    "input_addresses = list(set(addr for sublist in df['input_addresses'] for addr in sublist))\n",
    "\n",
    "try:\n",
    "    response = await client.get_address_attributions(output_addresses)\n",
    "except ElementusAPIError as e:\n",
    "    print(f\"API error: {e}\")\n",
    "\n",
    "# Create a dictionary from the response data\n",
    "attribution_dict = {address: attr.entity for address, attr in response.data.items()}\n",
    "\n",
    "try:\n",
    "    response = await client.get_address_attributions(input_addresses)\n",
    "except ElementusAPIError as e:\n",
    "    print(f\"API error: {e}\")\n",
    "\n",
    "attribution_dict.update({address: attr.entity for address, attr in response.data.items()})\n",
    "\n",
    "len(attribution_dict)"
   ]
  },
  {
   "cell_type": "markdown",
   "id": "942baae1",
   "metadata": {},
   "source": [
    "### Add entity attributions to transaction data"
   ]
  },
  {
   "cell_type": "code",
   "execution_count": 6,
   "id": "2836f56e",
   "metadata": {},
   "outputs": [
    {
     "data": {
      "application/vnd.microsoft.datawrangler.viewer.v0+json": {
       "columns": [
        {
         "name": "index",
         "rawType": "int64",
         "type": "integer"
        },
        {
         "name": "tx_hash",
         "rawType": "object",
         "type": "string"
        },
        {
         "name": "output_address",
         "rawType": "object",
         "type": "string"
        },
        {
         "name": "value",
         "rawType": "object",
         "type": "unknown"
        },
        {
         "name": "input_addresses",
         "rawType": "object",
         "type": "unknown"
        },
        {
         "name": "output_entity",
         "rawType": "object",
         "type": "unknown"
        },
        {
         "name": "input_entity",
         "rawType": "object",
         "type": "unknown"
        }
       ],
       "conversionMethod": "pd.DataFrame",
       "ref": "75ca58ed-f95a-4e9e-8ec0-e7b937dbc4df",
       "rows": [
        [
         "1",
         "3f55299ddf3cc3a0f43d5fd84bc3fb90083bd1066548390aa4b56c5cb3df0094",
         "17aoxXuaHDtRprwUMMEM9P4jUtQjPrEWX",
         "84.84626999",
         "['324H9uyTV9bPgAVgmdJNxPKKKZmowk5CYq']",
         "cumberland.io",
         "bullish.com"
        ],
        [
         "3",
         "3e5a81bfce3e4bf09d6733549686023ce9a2c6310d39cfe0409c7d4db38d0f0e",
         "bc1qz8z9wnx4cav4qam8wcdnvld8cm3w0rc7xxp60am24f0erhvd58eqypc5va",
         "75.76216739",
         "['3NH1eBb3AXQTQRCQkxZF8wYnm3s4vZPZy8', '3A35FrkSyoHCoMz4r3vPuAG1QHGpSEQUvZ', '3Kt898GW4v4gydcpvu9GSq4eW1ybA8pJdD', '3MxzFjQX7JDop7qJTms8Dt1mNr4Wdk26XE', '3Kt7qYj3Hm8reFt4wbtn3NV2k8itsV64MF', '3MvErrzEovupLB71Rjy7qJ42yREEQTMYKj', '3578jno476DrNNAhirzXDyk9cuEVNL3BAt', '3NEpVCvMBJaQ8xzaEoXH2sUWmDE2Y97Pj4', '3LEwgWExVbqz3k6vHFvnJepM8GEUkriHNg', '3FesLnSKwmpiHNjK1RLWNiF1uZ1tzjV9ie', '355PPwqySjxKZoFzSqfUvSi76KhBaCVa2b', '34EMxNbW2MDADHkvDVku5j7N1MKReLUNFP', '37Zrwfinveai7zKt2CvN89Bgf9LqkRVRWo', '35CPFvrhRvyYNdVznBnhL8mkotxDnZ4RmS', '3HugBsiHiEgc1t6ZXcnji587PNAZqMeLrn', '3BSU6ivykbQqyXUwexESjGNpPoxa6Pc2kC', '38E5R6QeEznyRyFcvBt6Bak1o793HYFpY2', '341ajUQyyKF7jJ6szQiMpnCxEvcmr8PHCJ', '39jqrcN8jX6wi9AQeK7esYsZT4ZR4VEuPP', '39m3a81eyjCTp6Pm2UNwY8pvZB3xEJsWh5', '3H5k1SePjdXoJuTcuqq1n7xvTiFftrVRUf', '3A96hvDeEb2NtAD21sM8PzeKjVrsFGFJoH', '3GV9DzoayQELStzuy7QKzsiCCGF1ewRern', '3EWkRP8i2hMn6ZTR5UuZYxvSs1gqGgGJo3', '3QtNvBSgJqJPDe1qW6iKyEcm57ekb7AANv', '3C4px9hdRpbCeQ5uXUEoLLZfGa5GUbGk7Y', '3LCSqnWLRgVPzwSLCE25tZZcRqM9iGmk33', '3Akw3kXG2sugAjQdSmBFp9HGtuBUqPr43t', 'bc1qrcdfal496r65dw64uqdh5ggupw9zhys3l7r64a9eehesdxlxc3es0leywt', '32zWupKf2WYjvodqYZcGrU8PoSBnfGFJ6c']",
         null,
         "kraken.com"
        ],
        [
         "7",
         "da610111bae26142eaf02b66998ff70a5cb308f8b104ed27b16491e9521968c2",
         "19tP9NDkXNZTUo8LNJmthc2tTEky8kwnmk",
         "39.83989348",
         "['15rPGbp32DBU4mEcAEtwcEcpx3ZxnUtp1Q']",
         "binance.com",
         null
        ],
        [
         "10",
         "da610111bae26142eaf02b66998ff70a5cb308f8b104ed27b16491e9521968c2",
         "18bYvustaVxkxA5wbh9D9adM4vGDCsB3Hd",
         "33.29307079",
         "['15rPGbp32DBU4mEcAEtwcEcpx3ZxnUtp1Q']",
         "binance.com",
         null
        ],
        [
         "11",
         "2a9480e8f6d02aa454ceb6c5428b7bd20ce1427317a6ce0e5dd18f1e1eb15d1c",
         "bc1qvzd00zz9jzkmwfnmswhmspryta0f6srmnnj3kr",
         "24.91323426",
         "['3F1486ESEa6e7H3EJ4pRQtaEXNRhavjjy7', '34ePMddFX5GkpkbycEhpLCEJAuw7RTZ1En', '3AXR8zHadmtqE7dwxVYZUuxcBXxyEYndLZ']",
         null,
         "bitcoin.de"
        ],
        [
         "12",
         "5fe4eb0a791e0ad00c6acf29c6bafa7bad6ac68fbb957d08b99541dedf109145",
         "bc1q757dcrl8z9ljrzqscpz52l3eywwadald2mt3eg",
         "24.16",
         "['32STz76CGkmMRMU3yUSQtYLT4DKuWhtSvG', 'bc1quhruqrghgcca950rvhtrg7cpd7u8k6svpzgzmrjy8xyukacl5lkq0r8l2d', 'bc1qckwq96glcduffza909dy2gkwj8mfncxdlqjaz5hld5v55skxr2xsrzejqk', '37DiJ16Ta6rvg8pJseeHq9SCPPuvHn3qCp', '32j8TU8dP6zA5EqF1xqmSih4vXkvjZKyzM']",
         "binance.com",
         "okx.com"
        ],
        [
         "13",
         "ed9c6d0cda11d4653df5c557f0c214599423ff2c5c4427f47204f3da9c118e91",
         "bc1qw5y93pl3v6d4nt2r2ww68xhrhvyjmxqxg0fqqy",
         "19.89999",
         "['1PEbgZszaAHu63Zc3BGVLHWQkEaHKHP1rR', 'bc1qdkmq7lg595c7k3aldmaxp7a2k2z6q9nfhdp33a']",
         null,
         "blockfills.com"
        ],
        [
         "17",
         "8dba21254de4e0e91c17f80dcd8631d6680790ef60b10979f65b7945c47a20bc",
         "19tP9NDkXNZTUo8LNJmthc2tTEky8kwnmk",
         "14.3396675",
         "['bc1qrt7rkpswpgmcag7txzf6ps9mvepwgndshqdx6d']",
         "binance.com",
         "kucoin.com"
        ],
        [
         "26",
         "7966453ed3f53fd19d09caf356bd70461503586c8b15341875115f3d46d55fb3",
         "bc1q88zfnu6wjqqpxyaksmc3mcgakwaqt7z68tkw0jx87gdn25fhfkuqy23psm",
         "7.77",
         "['bc1q5x9p784q6jkj4w3cw56h8vejz326yrf6u4tuksgg8kjnfkpg7l5qe8kpz6']",
         null,
         "okx.com"
        ],
        [
         "29",
         "4165b01713c436b622a8312a931c266bebab02fbf799de50be239f44015d6d68",
         "bc1qqrkgdtcyupzzl8uyzf2wy8yp7qm59h007xr48h",
         "6.72418184",
         "['bc1qnkt02kg6e0xllp29u62z9lqxlgx2v6l9eq2nalgqdy8wh9pcwedq3kh5wj']",
         "unknown_distributor_0013",
         null
        ],
        [
         "31",
         "119f96f50054c9339de58abc8272547819d98e05bdf757ec1a6f86b8223ed284",
         "3P5EUXLPJwvGBWivCANdyuHHEzHGM6FMeR",
         "6.0062657",
         "['bc1qm34lsc65zpw79lxes69zkqmk6ee3ewf0j77s3h']",
         "coinbase.com",
         "binance.com"
        ],
        [
         "36",
         "79e6078bbdb0eb2c3713d74f22ae260fe5f798ce88c37a746c50681a7b021544",
         "bc1qnmjcsfe850zy538kdj9hneh0ftffpkg0jw2f97",
         "5",
         "['bc1q7qksf47d7pmmkkguhe723evwp3za3u7qt5992j', 'bc1q5sm86dlzqr6ppv9870t4tddxewtmyldrphqsst', 'bc1qvgl8k2un90r7x7wjarhftw7j2uf8g0tmxjyg67', 'bc1q8lalpq6txhx4aczv0t4ra4yt80zzcvd8fgqaqn', 'bc1qfxsmn586etdjjekmf3k47kaynmdxp3a00gq3nj', 'bc1qfta7mgneq80a26hprys7qmw97enkatfj082jvl', 'bc1q00wvl0626ma85ljq8knzqsk08wwjwcc8ctwzrs', 'bc1qa3phj5uhnuauk6r62cku6r6fl9rawqx4n6d690', 'bc1qwnkmfqm8f3hs8gar7vfnw3wtj4hcanjkwxmkgp', 'bc1q65rfa2vwk6gs06p59p3z2s3k898emgf5uew0js', 'bc1qsm0gz7efq3uk64hfcujtgdnt7fd5v76pc9d02g', 'bc1qvy8vtz6rms9rtymeqcrm8ex95xv8pjumavrdkw', 'bc1qsrxwcsjn97vezu2ch65qrn7t2yln8nymxt6axy', 'bc1qdqtr588q6yedcu6lptwevfk2m5pk67uwf4vg3r', 'bc1q622zc8ge5kv4xjrej937e35xd2usyns20m2kds', 'bc1qtgzfezvx9gvezs4zxc4nq4egfxethh48xumm83', 'bc1qte35pnsdxtp8j93f05dreqlr8qejndyck987cz']",
         null,
         "deribit.com"
        ],
        [
         "37",
         "22471c19e0b02b97410902c76bfca1c9fd236698b04421bb9192516b79023c98",
         "1AR9sWV7ZR2C2ohGSDDKXipCfZ3RLGynHM",
         "4.999901",
         "['3GTPEgXtX3DbnUKNurjaLE1KpQEXfAMPhH']",
         "htx.com",
         null
        ],
        [
         "41",
         "4a10f4665de9deaa1eda5aa9beb7c834f8b0c8a3bde7fab74130fa638cc65885",
         "1AR9sWV7ZR2C2ohGSDDKXipCfZ3RLGynHM",
         "4.09763211",
         "['3GTPEgXtX3DbnUKNurjaLE1KpQEXfAMPhH']",
         "htx.com",
         null
        ],
        [
         "42",
         "ccbb063cfb29c4a2584d77937ad4f1f840fc100119c740df8a4b15deaf3b64e7",
         "1AR9sWV7ZR2C2ohGSDDKXipCfZ3RLGynHM",
         "3.999901",
         "['3GTPEgXtX3DbnUKNurjaLE1KpQEXfAMPhH']",
         "htx.com",
         null
        ],
        [
         "44",
         "2a5114778698da227dc5862bc0e46e835b402f47f2dd892ebcf584a618931f8e",
         "bc1qns9f7yfx3ry9lj6yz7c9er0vwa0ye2eklpzqfw",
         "3.45567351",
         "['bc1qz07t5gte0qlj9eylppuac4js7d2wmrg7ch06ea', 'bc1q88sf4dw5gjm8rrernzh3wg3pns2fkyta04rfnj', 'bc1qmxjrvtumc5c25gl0y67rvxvlfsf78glj3f2w4l', 'bc1q4fcamqdusuk7paaxwfvyag0qjz9d692mddvj37', 'bc1q0f8dtwrze4e2mq2f7vrkws07af264whga5zd6j', 'bc1qj02dr4chvucvf9fj5850hh7rj5x5ph3l4gcluq', 'bc1qzfdvxs6xf099q2xepxmv39lljdecz2zpucpwem', 'bc1qkde3ng3fq4cgjwpt4f2vf4anpj0vm9ftq2zfly', 'bc1qhnzw6lt7xg55zvdmjy4cn5aps3dhrdwdmhrs9e', 'bc1q0rf08p7zscf9pm22ggemm4ehxpnqxu4yqnyra6', 'bc1qy5scqrs656mprfe72ya6hd0jy3ryk44s97e2g5', 'bc1q72f4glm4dtsqflj0f3suwewhyn394t6tl5c8th', 'bc1qn7chjmveewzl98mg5u9y5xue3ea0qjr5lk5cwh', 'bc1qwmxhc24geeppdk2tzw4gpkepe4q0x3nhdmlye9', 'bc1qpvnhd2eygcwww4j7c8mc49zz9vtldwpmaumdvy', 'bc1qtegygw3j626gpdfcp2zzfeupqtsgslaem45vc3', 'bc1q7hkcemv2eqkpknp2xnvq7wqw0ksmtjzk2u6eyf', 'bc1qhthd0jgw5vqnxgwu36hx3al9gfp5dahs0mfn92', 'bc1qyvhq5egprnm5nd6v3th9mmkzdl60hulum4slfw', 'bc1qkrh427ry3zwsuqw49j6r2selayypn5nqxjmllp', 'bc1qxanze2gsgvwlrmhg0dr5tp07szx0swtj0lsxzn', 'bc1q4r8ts5gjpjsvdt7q53698a6jmu3ardms0ltmt0', 'bc1qsxrc03997y2eykpryp0ha8ylfq3sytgdpe30cv', 'bc1q74je44j88trwsr0cq89gnjtgky8turykhf3n4v', 'bc1q0xffsutr80274xkse53w7w8t6n5lm273krcrnl', 'bc1qurv0j3k9snv9hct3gz4e43jmvwyvsvtcaplurv', 'bc1qynk0xd7unpd35z3r58amtyqtt4xk390hyzavgd', 'bc1qpe9aew4h9vwey289ttzfx235hvkcfsw92w6uwf', 'bc1q85mnxymj2ec09dgmll22jy50fe2nc0kq9c6mf2', 'bc1qlfkvgayrnjmuhxc3rsnt3wd5qvv9a7ej7x37p7', 'bc1qyl9pyeg4km32mq63pghl0c0g2rhzxwv4mnkwzc', 'bc1qz6sqsnh8pse5hyf4fata2jezytzctkhpga0khl', 'bc1qq3rmz9gm32m59pgq39te39kuh8kgp6plnsn8th', 'bc1q8d35qa4gsxp0qvlt8pxmudfrspf368dnzql4x6', 'bc1qunh652escmcx3m92d60s0ls3p7ffrkupmhucp2', 'bc1qq7zjrftlwk7ayr0nj0l7kcqzznyzxtt3upxru3', 'bc1q9ejlaska0z25hjutdx5we37r7qjkvlxzxxjfgc', 'bc1qhvnkdfwd9qddddc4g3qhsctjz372zy3h0gl9v8', 'bc1qfvjunm6wzc9usfvag7fa4jg8dkuqda72ypaaaw', 'bc1qtmsz3whtkfp0rucy4etmtap68utrwc89ms5k5x', 'bc1q4zt3t8xknvksclt7fnl9qnypnwv554ygutxfu8', 'bc1qagk693ddts7m76udn3r8xdg8dsfarqvlrse6ae', 'bc1q40m2e7hkf2sp53lddqf8rqwwr8lrsukw5hdj30', 'bc1q9kj9gje07yu2le0dx0vq0cd4eufzn3tzzkn7ww', 'bc1qdnt848m75klz46q0lvvjp7s3n7hnyssg8xp5me', 'bc1q6y2hmq60na6nngt5avq44j3d8253k5edq0epla', 'bc1qdk3x23atqqmn65fan0wqpp9ddqdvenfad9ya87', 'bc1qzmh9ywf6t3kmwjkm7t7swrur4wxqqaf5pnzfht', 'bc1q44ewfa0gqtgj8ppnyp5g4wqewgvz2yhtn7n2s7', 'bc1q83w37k6a2je36cl5hsvrvtqn4pgc928d660dxa', 'bc1qfk3e2l59lyyr72faf3sxlukutymzxgw7xlyl3d', 'bc1qarxmpwg44tkzlga23ekwtrlz9cfazc7yzcnzw7', 'bc1q3zr0crzth34nnwmytvfjcn7cvp95wc3ytun7ns', 'bc1q8mq8dhz0dwlgdnrys3krcedahf6u6cqxtqxrf5', 'bc1qax8xkpwjc0t5p5sy9s8ra8gk90ralgh2vj988j', 'bc1q3l70lnu0h5aes9rdaq8u9ehhhcnxqpz0vslfga', 'bc1qat9s8d8454q3e3v6hu5pwnlw25n4rdtnxckanc', 'bc1q09t6aphj35lhz4un2pxjr68kugps44p07tqav4', 'bc1qw4kfmh8lnrw6kawt3utnq8eurswgfqhmv4yt6x', 'bc1qa2hvxf78306mawe6pc4kzf20q8pa3q7jx9gyjr', 'bc1qmf8tspq96tt4aptntw4z992t4g5rt2fn2aslg6', 'bc1qdg3wzllc90c4ccgx5qmfzdqq3xhcrf4mspgzuz', 'bc1qhl88drzgacu3cv6kthxswuljqrx58kl7kvpr0m', 'bc1qqmryl8evhuz2m7l7a9pwpf6y0p6fglc400eqjs', 'bc1qcmykze94lmum0405nhyvl5s36z9jm59ekt0zg2', 'bc1qz7c5taa0ytrnfh5qh0fp6cycun6sl6a5tr9gdz', 'bc1qds0ekemtftackxkxwklzlcpgndcfnye8xa9h4f', 'bc1qm0wj4rpqts68hu98f7a6yxst0gkeh5c3m08jkp']",
         "fixedfloat.com",
         null
        ],
        [
         "45",
         "40364f81db3c9efb13177947aed9b3cc15ee10871133de31243bb3ad4ff4fa5e",
         "bc1qcpf0n00lmmxpxxefscl8cf0qsnzchz9kqzhjxdp97hjx34yegeeqacv76g",
         "3.44",
         "['bc1qlx87a27s84ngdyveaqmcanxre8n4pk6lw998kfncqkndeqdmuuzs74zh0v']",
         null,
         "okx.com"
        ],
        [
         "48",
         "c9869594d89012014f5a7f954ff5452cf8b6b743b8aa9260705e227cf7ea86a5",
         "339Ns8CiSKX2KHBZ6SkxxXuT53uGiuTQkU",
         "3",
         "['bc1q3ukuvjk6esj4s3kd2306937cdkw2he2tsekhfx']",
         "coinbase.com",
         null
        ],
        [
         "53",
         "9858e43c3f3edbc0a38f81570bafc4cb886f68f53b92ade82df1403b4071b2d1",
         "bc1qgksrvdaz3mx2j8qp2qanhsjjrqqmzg7petf7gu",
         "2.20289423",
         "['bc1qtkzq49uzh0nn0kd78mulalwwkme57ynnhryjs9']",
         null,
         "cash.app"
        ],
        [
         "54",
         "9858e43c3f3edbc0a38f81570bafc4cb886f68f53b92ade82df1403b4071b2d1",
         "bc1q4yq0svlqkdfut43dl3eejyflw3mk9dx8j9h5aj",
         "2.20289419",
         "['bc1qtkzq49uzh0nn0kd78mulalwwkme57ynnhryjs9']",
         null,
         "cash.app"
        ],
        [
         "55",
         "9858e43c3f3edbc0a38f81570bafc4cb886f68f53b92ade82df1403b4071b2d1",
         "bc1qvdjtjnln4sxu5jcx8x32ms0s8vkztkkyh5ey7s",
         "2.20289419",
         "['bc1qtkzq49uzh0nn0kd78mulalwwkme57ynnhryjs9']",
         null,
         "cash.app"
        ],
        [
         "56",
         "9858e43c3f3edbc0a38f81570bafc4cb886f68f53b92ade82df1403b4071b2d1",
         "bc1qxgulnjrgvwsedsuzyuy0gw22n0ak4caz58l9p6",
         "2.20289419",
         "['bc1qtkzq49uzh0nn0kd78mulalwwkme57ynnhryjs9']",
         null,
         "cash.app"
        ],
        [
         "57",
         "9858e43c3f3edbc0a38f81570bafc4cb886f68f53b92ade82df1403b4071b2d1",
         "bc1qvenkn9lqnr0g6h77rpydu4j3earvzg0yndst6n",
         "2.20289419",
         "['bc1qtkzq49uzh0nn0kd78mulalwwkme57ynnhryjs9']",
         null,
         "cash.app"
        ],
        [
         "58",
         "9858e43c3f3edbc0a38f81570bafc4cb886f68f53b92ade82df1403b4071b2d1",
         "bc1qta3syjrvwcy2z9ueyxe2mfsk9ekw3q7e6m3azf",
         "2.20289419",
         "['bc1qtkzq49uzh0nn0kd78mulalwwkme57ynnhryjs9']",
         null,
         "cash.app"
        ],
        [
         "59",
         "9858e43c3f3edbc0a38f81570bafc4cb886f68f53b92ade82df1403b4071b2d1",
         "bc1qd27ttgh3v3jglp8tld80rlz0464lmr27mjjcy9",
         "2.20289419",
         "['bc1qtkzq49uzh0nn0kd78mulalwwkme57ynnhryjs9']",
         null,
         "cash.app"
        ],
        [
         "60",
         "9858e43c3f3edbc0a38f81570bafc4cb886f68f53b92ade82df1403b4071b2d1",
         "bc1q0csdfq4aszf2uzqjjxwc7p5su25c29unvmycmc",
         "2.20289419",
         "['bc1qtkzq49uzh0nn0kd78mulalwwkme57ynnhryjs9']",
         null,
         "cash.app"
        ],
        [
         "61",
         "12f4211debafed7d461af82818dc4aa34a27109de3afcbf1668f7c6ee88bfdcc",
         "bc1qqkznwex0zjhlccge3g328gurqzf77n3p3nnnlm",
         "2.1359875",
         "['3FdqJfiZUQVtortv9thna5Xf9amNvzK8Fu', '32RfdV7Nb8FDRs7VNUJqPoDjDYPB5XLhvc', '3CDU4GkBzvbgfNGf5o1B4XRoQ2qqjWM1zh', '3EQcP3X3Qb3e9693XCXTJyF7jFLKwzTskM', '3QiGCfsi9HrtzSHfcUr6SST8ETSQZiZzoQ', '34R7gZBj9CEL9eKrkYdqKMJpv6qfTd1rjm', '367tz6CXZQFcWMBn89sgoNMbLFEdY4FHLs', '1NF6633Ftf8hyPS7FRgL3p4a7NrkHjzx2v', '39Jz5FhUQzz5QDwhS4M1WXt47HpMR2aj7e', '3LrZwcv5j11Ccqzx7NPpuULbQcydgD6n2q', '3JE5W699MfVVT5kTPBEcNJAKPMHR4qpzJy', '3MfZHenzeNpnRL5wexUSF2oXd6kTcwAf6S', '366hDdxGSCHxfFbP3Nod2FWZsW6tuqSuKo', '36aPJR8hugffrWDzHVUpde9gJQDHMGSzRj', 'bc1q3cyfurl4eavrug5c96cg9d9l4nk7c9uphk85g3', '39dhd1MDYbt9WTHjtjSB5hLb7CorhCNzyw', 'bc1qkukvkg7zhgy3yv7e96nlnxqk5xah3zsda5u6ds', '3JyckpqpNeUUh9JVPAddYZgECEc9tvvbod', '3CcpGZ6oytLbr6hcgtKGHudyZnV8u9kZ6N', '3MukFhsKUd5XyARigyswgS8zSY9YE25tTy', '39HgSCxWrv4ArA3Wcvsycn1mgomRZApv4Z', '38oyC9Vj15JVpLpqwCQcreCdrkj4H2UsG4', '3FHyfBiCkZKkAURx1nGkkBe1hbnPcz5MpP', '34sc7b7HGQC8KVv9myx3sHjxm2Kg9qWJeo', '3QTF14aQfjz18VCPmFLLixYSyUxA1qgAoY', '3LJbddFXPFN7WL4KEoGAqK4VytNizqVg6v', '34k7rXdY2Wo6bcRVnRHpR1pVDNHZDMiD4k', '3FyrJZEwfYy9MEnoYyKJ9zMSKoPrAySHBm', '3GjwpbWyzWiHWQTWhCMw35vyKUBShDRr4v', '3LuPN7GboujnhJgY2AryoFqb4rJqRYQ9e7', '32wUMdzCGEkATY2p6KCWYibwMNp6tRYpTk', 'bc1qlmr5ek7wn7p74rgxl5adlcptxzzlwkxh42sk87', '3GG6MqhCVsxXBudZbJUyDNVgagSqdUKRux', '349akpfjwav51JR7MfXL2gmUU2oAgFM8qt', '3NzpzS1kPg8EDvJvWJZ1xqMwJhgxUT4YD8', 'bc1qz58qkqqpvtctsxwjh5fc89dxzxrdgya7ryj8v5', '3DXVydpNpcBMbE2mzN7W5a7kvYFyDS5VMX', '3GrkA2zD7b7fx62QRVJAvCiHLa9PBnGr11', '3HuPxFJtPBajBY4QapwhmBAVJifdSzxSLW', '1KT9eB4fkhHJkk8dPNB6EB3GdCcWVABCuG', '333d41MichmaB3316pn9r4cfVC2S1dZpBg', 'bc1q36drdvm3kqfcggak5paukmqsj6jdd2cf68wdad', '37t7WdMj3mshH4hgkcy6qpMP8PDuv9GWwG', '33MXsqzQSWy6qqPoRUrDzZo8qLGEznS3bW', '3AAH8hAKPnrtiiDMsmoRFrzSfpqGJ7Hch6', '3FQsLUjHozA8K6ibzjvDUZkLAWpbCGUeWk', '3FA5qCFi5EtpjKyAGVYNbh9hgG7U71JeKb', '3AmrkEJh5SKVqUh7YyAuuovmr8uCXbSvbq', '37f1aw72thxqkwW2gkAFwZEtjuVxhpQtK4', '3JDmU9M38NYN32VRpfPR7MP3vqU3xU8Gvv', '33qWddTHhpZzTmxVtQx5ubibDbQJNjuSv2', '34ZBCLX5GPLUhv1N5SxJ5iwanm6wRRXfza', '3PVJuhYkjyCRSSQHDaQ3LVWfYqTn3AAwvS', '324uiQDrxcF3CMQnNmCcQnQYF9C9GTB1yo', '3EELNPbaA26GgHBF5n2ReXE4Biw4PNq1ox', '3C98rjmSRn8JLNisEHdxGKjnBdG5UdbHFE', '31rFEbJ5hNKLkKmx9Vv6vzq5jQXSV2hfW5', '33UYkHEe2SjqXkDFyCgdUqmS7YXescUn6U', '3Qta3ro3vNuzeBARSxeZAmYqGBySw943pf', '3QZdWzCJoJ1vtUanhsGadz7XvYrF7nbxxg', '3EvDxaE3HU6QeKVGYk6Fx3SzUxqTtnjsTR', '36Cz3kpjNqGC2aiR3dknEV1PQhhxUJKQQZ', '3LCkpw3Pz43zGJDUDzpSZpfvrwkWSUBYzx', 'bc1q8quhhyg0ext8pk7y58p2c9rple6y894ujha86u', '3L76FcxVw4ecLtRHPPvAxBB5JuY1zSshM2', '3M7evQhdj64CYLJvEgjFZVLMKNVi4kq4b9', '3KPTxPudWs3uGCsDBiwKi7dQEtUYDeWv7y', '3JqXZxKzPni9C3ciD5QapEx94gbS5z8Yfx', '3KtbTN2vG1rn5eQ7rR2bnseRH8awqagXLo', '31pjXkRF2DPCrwjBXB6E61ESXks45cY7EH', '3NzExgBJNxJC2q8QPhd8ZtBvaF9xxGJ1p5', '369ffz85MDgBJ4yYRDvyn3EyAwQt3kmWmo', '3B6t4o3jMSeNZ7XRLN2kyDyBUyp6Ecuut1', '3Bto5MXmb7puDXtScsp5xbQyQosiD69iX7', 'bc1qmeyqyg5a8ssg4elk7f0wn67frny436vtkv32nm', '36Nm5MjqvmUQX7K93eX5KpaN51aTnjxoPi', '3FQkgBy8cev5MSwx52mXA9cR6iDLrX159P', '3CiTzZquzTrA2xRxDDwFHsR8p21K8cuJ79', '3EVNTwfNbJh9kUZsPeP8psosbSANFCoJvv', '37Ub5rNxzwmPGAnN7EQgqnn2nCYDoHGWAK', '3MfhDp3So7as11ejxPFzVxadRnQ3msYJ3T', '3M8HaHvYoLmJnaJ4xeKpLadiPkoH65v91w', '3MD9Pubco5ZRu9husSRSzMJbgbu8PDoY1d', '3K13VYv5tma4D1cZC1q5m974YPtWLcDL7t', '3DRf1YADkkntpQrbLWSA4D2fWBBetJxQvC', 'bc1qxrulja8q6jencjtg2cke58u387fj7u2rgsv7x8', '39eDfUf8HMa7PmQwwD61Qm3RRpxLiZSxeE', '36pGgVpD39tXWZ5HBdsbMiMjx2MgVBJgDE', '36JNB7LC8SwQxjc4G7QHJ6ggzLZfGkGkYB', '3Kpw6bZRgS4uiRtr8SvVvS5JYyRiT5xpac', '3CK772uJxNppW4mmGcZk9hGjA9sv2KRMTu', '39DYd5qMvdoNXaEUw6HuEhHVHiaHqfELAD', '397caNhPcmszEc9N92vAWdK3sxrH4NB1kd', '3B3VNdjFiKBd8Lre2pcz3sjHvUHEf73V8c', '3CTemnrNzJoRNidWEjEnZgdEuhVgCPMdWu', '38zCqJvSsuegjdUthMVaYEfp1EUPQAAUgW', '3DDoY4hzNhAT9D3ts5hMVhB8E4wTu4yLjt', '3PE2AjK2ou37i5rsXup8YvQ46GDMh1cBHd', '36T9Y3YTL7enaMUakQCWSANrZtSjMr5TF1', '3HvhWUbN3K1kP2i7GLkGYQkqMKC6dwhJmE', '3FmHAKuJHQm1F8pW6wkM9aNsEsCywy3Q8U', '3J6DSr83bHk3EboLdENB99wsqGVUf1J5ND', '35aMngSRE249HcUfPrr599FKqUuLGVu8Vy', '3Pu793qjwxSY1TY2pWvVabSoQZiawsrLsA', '3L9ooime3eq32Ao7kmxmwX1Twqjta66UCe', '3MUAvRyPYSKxTmS1C1DtVmHajiyrPm8H1x', '3MBADfrtKE3XLm91QJ9TYcBGdY4u2b9py8', '3JhZTU2vP2SjkkRZMCGBWU6UkNT1z3dS3S', '38CZXnJYFvNt3qRrrSkUFhBFpkk2Ak3gGe', '3Qqhs4wonupDMxehZcQn7RQpsaeeU4nHpw', '38D9osUQVacuCAVqLCrVhWzirv4K55TpP1', '3BuQiKXKwmMLPUQVfRnSLQXCdxo8Rj5Cby', '38AJqnAUgzY7mvKB1guFrxJ64YbwgmzZFN', '3AN6b4QXXUKxvJtrDmcPpQ1pHturh851Lp', '39m9cnKhT4BBW6dzgYNNpyJDYaLYHc6HVz', '3NKMknh5TUWBdxCUzbm6YbVrHY6pAaZg6X', '3Hp3YmVYutnTbBGR6VbZqApdEGLeBWn4Ns']",
         null,
         "coinbase.com"
        ],
        [
         "62",
         "4bde671cd876d86b38adb79aafa26d44a9f73e40b7b1097942b15f3f016f9015",
         "bc1qrf25y7yqxnwjh9hqqh8vcsnexp065zmzxgwlqg",
         "2.10467973",
         "['32Z9CENN2sHUiiATEHRUnU7L4GPu4mzYD3', '34F88UkcEjn7F8wiEuQQq2YFnXJXVhGWCy', '3HaSuQEe9MCWuCVv6wDJ3q5PDE38uqo5KF', '1BrCC5vsDLsN6MSKHomfRUEY1Jkiw2iEEC', '3GPpCnzKmAdizvAkmxiXfZeW1XjiEkfH6t', '3NRWJSmXSKyfXxMuCwWpY38xfCwJG9uoRh', '38A8XmsoP75LuB4kYYMgHfUbVSa6fL8ZPC', '37E2r6dVFJMDUjVP7AEpPU1BqchFZsniUU', '3QbXTGp474NQFBVzNmcnrK7aMphmWsbAe6', '185VEifBaq5U7M5qHSf6d73mQN1DVhws2g', '3CL4MwckPRYwhhYxacGQprYpojEHzHsG5S', '3CyAsi6tWuLPB6TWunbpr8tquFoVdTB3N7', '3MebiwyXUQTJTmzkhB9QawWZJ3dTe43yMj', '3ERGQ76yiSZXhNBLPBScf1UummwvY5vUGG', '3Je4ejKbk7ChhHEvMJXZjFkSarizDsBMBk', '3FkFo7wBpcaKB6Vk5QvZ3a3oxUP5WZbcR6', '3H5AYK78zWDk8p8wvaBqzbxMiETdMN2ZJC', '33knYuJUMPjhtxDmTrpsjNub8g7JZymWYe', '3NcN31nYRsbHMW9k8B1emUptYQF3RyyNc6', '3H2X6k4NTskvwXpfSFC5tGFZ95HhzAXBXR', '33CUtQBaq4Qon6bFVVLTpHXMqdLaWccFxw', '3GHBLGHroLN2nmVVcgdq424rydtBLiFBm9', '3QPbTWriPG9Dr8oviKL5pDxbdpZBcTHbwx', '39vpinscK7qrA3D9V83cXqg7wCK63T7xnV', '3HCeqgYUcZVcqaHBaLhAiXUZEouS9Rfcb1', '3QWbiANnRa8a7bzdBP9GbtKFuCYZXaZ7q1', '3LjrGYrSsjVDWNfSeyuSQ1s4sfznhpmMfs', '3M6nb8F8XrYqy9E1hMQWJReW5g6XxCvpJ7', '3MB1NAXG1N4TNYdYwHKyyZ34eWJHY8XsMq', 'bc1q3095epm9akc0s34n7h6h0adgxzds72c2wj947w', '3FUUWEoW6FSESY5kf4AbWrbC29cnUqsUYp', '3MDn2jUPykp1YFeHsGGYnYXeiHYQPrHz4W', '3DKvmVKfvavC14f9LQwYTWKUiZccHyqGqY', '3GJWkaFPGv2tbWMsfmQZCs5GN2aeMHSSfc', '375bhkpWDWSRRqdwH1koVm6fjBUpxa8jqD', '3Pp3S8QvTewCZwqkT2xb7BHh1HKVg8JAFC', 'bc1qzrsxynhlmh5g49m3k7ymyr9qct4rfh76qvc3rz', '3Bj6cFmDxp8ChcX7CuLjpU1PVViyTsyT2o', '3PV6k6SwKZRFqFg9TNDnwxx94MxDD2jsBS', '3GxFkZ2GMYGd3CnAsQrKjaoaP9jbUehDAm', '34Drt7ACwUe7Ab2D83rdwVNarS89xV8vp7', 'bc1quul6r69d58saa3dem2f6g4snuel0jm8dt094zm', '3BUdY7kG8gD9kNEw3rwNBMMDhykRwemoKa', '39EXuiHTQDnERgygzE69t7zxTDrMUYUtAS', '39f6Faj5xZ26uZnXn1gXLeiBd1rXYLV79U', '3DmiUSXrayJvrgvTddX3zuUnFvrrEQWo7j', '3EsL9sM899neP6RhvC9QMEL5boYmvnYoqh', '3QUSHykNJXnRtcrBYKMhoRn5NTLcXzwu8T', 'bc1q69x9ht7dgaq2rw308zch0j3je34vm683uvuj2z', '32AnLi1tVjcBMCQgPPWbySrrnPwPg9aVZu', '3H4XZmf6s3L3bATH5JdGvzXtA1PtoGRs9f', '3NjhYueS4irRb9iYdsAt8VafXt8s1dMA22', '35Lnd2qDrHKcibsxt7DWobKxNhT3jexhw7', '33NPAQKSG3dnrCCowkuzUY34qoBcp1k9WA', '1QAKb53E9gaA6h7q3LQoo6uvADoCcQNkcH', '3BSbU5gnjiMZFiYJxifMk55NGNHbfxUTDw', '34ZCKVEx32wfiPp2PrViffzwGm2TqNPYZt', '3MvwohnpWjWmgqY6TFc6h5izbvmHvJ3j5f', '3NHQpHXZ4vPanD8Fuc7LPaL8eZJ2qLLRag', '3CGkHz4sYG2ZotsLDyBcQFoRc2ubvcFpxq', '368gGdwTGG7VA7eiogGf1jU9DGExUxEwT8', '3Jh28YUKer2BVH7dpDo2Mo4EGS5xbMoyq3', '33DPGA7oXDwq49QNtVczUWQBjrjhngxYNi', '38SdDLNijmpnwYYTxRYC8GNP6yHr9aK9Kt', '3PiiyxTeFDNevWD8Wzpnqjq7MTh1vdzeuY', '34qukAxwpuEVQpiRUVgcQhjdZpYWPe4YS2', '3CCV7DwKcGhz6oCp1g37t5iXmromwjAkkt', '3Ng8Dqyk7giMWqWViR5Vpi3V7HaVNAm1Ss', '3Nbj9HZ6ozcbqKiMhkuEZ3FNwFz4zSTdzu', '32c2oagYiuvpA3Bo9c7aq4PiLqcCyti3ts', '3F5yPJfKSGm9n6z5BLc88K3HW3NhvSgQz3', '3LgR65kbu5h4zvgX6nEEygxosKptzodhWt', '3PiJrr957iQeDY9ztZs7Pom3Si9w2WajRb', '34EKYUdBHeTywqCTJ9ccSn6zCAYEwmbfi9', '3PhaBTrCN6aE12VSAA7zDYUWTvuCXx7k5S', '3L76FcxVw4ecLtRHPPvAxBB5JuY1zSshM2', '3NYRxyWLtYzfQ4KEBB6e49RmSt1HatqXXM', '3PE2AjK2ou37i5rsXup8YvQ46GDMh1cBHd', '35FP4AEa2Y8ohhY7u42VtnTESPQKa116UG', '3Fcjq8RiCGkFf2e7RHeeKHB3dbjC87GP74', '3KMVPH6W3BY8BXgwK6dvZVBZoFbhTh8JX8', '39CBnw8WqTV4qHprPmoPpgz23rk8UZ7ZLL', '3HfAa1BWwL3xjN3Ep7nqPen1Uw8rh1oa5H', '3HqCy9r8tGec16SbC4S2hnDB4HvuY7UfmU', '3KyLbZPxbv8xEkD3CvwHKRM5MmCFHqEjeq', '3EhFU21a7PRdVxGKBKU8d4MxEwcLwstkpu', '3MNRDvKQvKSyMKNhXH9ABNhkewbBPLdYyR', '35Bqd6ZFDjfgKpsnSsfP7bYqK5sfYzrYdu', 'bc1qt7nfp07996de65tuhs38f7nf9lsyk3gcyt57kd', '38zrYZQcsdDJ9QvQJR4tLmbFuY6Y8qZTJ4', '3HYyh3GsU1d7JVhkgbpP45JzABSPhDF19c', '3Dw79DhH2NMsjj2sGPoZffQURdcHetZm39', '3C98EjjWYUCvQ3kA9QWyuwWtyGcFEf95a3', '3CCUenSSGcacD7PNr7SMvQzMUkN5UwMPNE', '3KBDYvFN25S84GRc3QBv8g9nYqnSEjpSCx', '3EiqLKvQ4rquvBfJS7giiYeufc9FLgi8eD', '3HumGebcidochHSSBDxumiWyKH4NbTWnCw', '3L8YND5JHQ9fPoZxDUDYxydLaRT135D16i', '3PUg2xQ4ZMeuHS3sMkfUZSUcwRu44rVRm9', '3JtmNCwPgAUvoeYSoNDWkTrC9AzQ9vTqKz', '3BYMZJPUU3HVsinXyX1rEJ7SZYVirWNiCk', '3Q6Yh1VzziC9fCEKpnzdg641Rcy1PodGgd', '38LcSdCvpaFXypoDgVi7ijn3USErQGYScc', '33iAaSrzRjQtZuybH3uQs5vdm19T4LT7aP', '3NnsjwCE4yDqusHGPEU9GXPEhEkJ5dTkEK', '37Y1g7wTFoSNxLiT1vZoDk2Eqe5fUrtJSi', 'bc1q8vllsq2njk6hlqx8qlh9tz4napcphk9a4l5xjv', '3BXbnXSJzbNg3EhDRkPWrnVdvQNqxf9KtK', '3GBNjHV8rFrvXpwd2x1UFbYL3qcPz8GZJC']",
         null,
         "coinbase.com"
        ],
        [
         "85",
         "fe3b337447850a6db5b367a0f7d573374abcdba125ced0b089fe27fc7e23f596",
         "bc1qddguk05m9290rauh4mqaf59rh0n3quayu3qvrq",
         "1.03325975",
         "['bc1q7cyrfmck2ffu2ud3rn5l5a8yv6f0chkp0zpemf']",
         null,
         "crypto.com"
        ],
        [
         "86",
         "4165b01713c436b622a8312a931c266bebab02fbf799de50be239f44015d6d68",
         "395ievGK13NVCMn9CVuG8BA6gyxQjL3VQG",
         "1.03295208",
         "['bc1qnkt02kg6e0xllp29u62z9lqxlgx2v6l9eq2nalgqdy8wh9pcwedq3kh5wj']",
         "bittrexglobal.com",
         null
        ],
        [
         "88",
         "3e5a81bfce3e4bf09d6733549686023ce9a2c6310d39cfe0409c7d4db38d0f0e",
         "bc1qqjl3d0ysvea7nwqanrwv7r22mlvgv88c7p0dm3",
         "1",
         "['35CPFvrhRvyYNdVznBnhL8mkotxDnZ4RmS', 'bc1qrcdfal496r65dw64uqdh5ggupw9zhys3l7r64a9eehesdxlxc3es0leywt', '3MvErrzEovupLB71Rjy7qJ42yREEQTMYKj', '39m3a81eyjCTp6Pm2UNwY8pvZB3xEJsWh5', '3BSU6ivykbQqyXUwexESjGNpPoxa6Pc2kC', '32zWupKf2WYjvodqYZcGrU8PoSBnfGFJ6c', '39jqrcN8jX6wi9AQeK7esYsZT4ZR4VEuPP', '37Zrwfinveai7zKt2CvN89Bgf9LqkRVRWo', '3Akw3kXG2sugAjQdSmBFp9HGtuBUqPr43t', '3QtNvBSgJqJPDe1qW6iKyEcm57ekb7AANv', '3C4px9hdRpbCeQ5uXUEoLLZfGa5GUbGk7Y', '3Kt7qYj3Hm8reFt4wbtn3NV2k8itsV64MF', '3H5k1SePjdXoJuTcuqq1n7xvTiFftrVRUf', '3GV9DzoayQELStzuy7QKzsiCCGF1ewRern', '3A96hvDeEb2NtAD21sM8PzeKjVrsFGFJoH', '3FesLnSKwmpiHNjK1RLWNiF1uZ1tzjV9ie', '3EWkRP8i2hMn6ZTR5UuZYxvSs1gqGgGJo3', '3Kt898GW4v4gydcpvu9GSq4eW1ybA8pJdD', '355PPwqySjxKZoFzSqfUvSi76KhBaCVa2b', '3HugBsiHiEgc1t6ZXcnji587PNAZqMeLrn', '3MxzFjQX7JDop7qJTms8Dt1mNr4Wdk26XE', '3LEwgWExVbqz3k6vHFvnJepM8GEUkriHNg', '3NEpVCvMBJaQ8xzaEoXH2sUWmDE2Y97Pj4', '38E5R6QeEznyRyFcvBt6Bak1o793HYFpY2', '3578jno476DrNNAhirzXDyk9cuEVNL3BAt', '341ajUQyyKF7jJ6szQiMpnCxEvcmr8PHCJ', '34EMxNbW2MDADHkvDVku5j7N1MKReLUNFP', '3A35FrkSyoHCoMz4r3vPuAG1QHGpSEQUvZ', '3LCSqnWLRgVPzwSLCE25tZZcRqM9iGmk33', '3NH1eBb3AXQTQRCQkxZF8wYnm3s4vZPZy8']",
         null,
         "kraken.com"
        ],
        [
         "90",
         "40bfacbeaaa3113e7843fd71bbc3d3097e61547f814012adfab6f6ab384b4b3f",
         "bc1qlxvpzuxdk3h8m5yx6j0yhq45pw3exnceymg7f9",
         "1",
         "['3Msph4hwNgQX9SNujmoFBufkYvqYWCDztx']",
         "binance.com",
         "nexo.io"
        ]
       ],
       "shape": {
        "columns": 6,
        "rows": 32
       }
      },
      "text/html": [
       "<div>\n",
       "<style scoped>\n",
       "    .dataframe tbody tr th:only-of-type {\n",
       "        vertical-align: middle;\n",
       "    }\n",
       "\n",
       "    .dataframe tbody tr th {\n",
       "        vertical-align: top;\n",
       "    }\n",
       "\n",
       "    .dataframe thead th {\n",
       "        text-align: right;\n",
       "    }\n",
       "</style>\n",
       "<table border=\"1\" class=\"dataframe\">\n",
       "  <thead>\n",
       "    <tr style=\"text-align: right;\">\n",
       "      <th></th>\n",
       "      <th>tx_hash</th>\n",
       "      <th>output_address</th>\n",
       "      <th>value</th>\n",
       "      <th>input_addresses</th>\n",
       "      <th>output_entity</th>\n",
       "      <th>input_entity</th>\n",
       "    </tr>\n",
       "  </thead>\n",
       "  <tbody>\n",
       "    <tr>\n",
       "      <th>1</th>\n",
       "      <td>3f55299ddf3cc3a0f43d5fd84bc3fb90083bd106654839...</td>\n",
       "      <td>17aoxXuaHDtRprwUMMEM9P4jUtQjPrEWX</td>\n",
       "      <td>84.84626999</td>\n",
       "      <td>[324H9uyTV9bPgAVgmdJNxPKKKZmowk5CYq]</td>\n",
       "      <td>cumberland.io</td>\n",
       "      <td>bullish.com</td>\n",
       "    </tr>\n",
       "    <tr>\n",
       "      <th>3</th>\n",
       "      <td>3e5a81bfce3e4bf09d6733549686023ce9a2c6310d39cf...</td>\n",
       "      <td>bc1qz8z9wnx4cav4qam8wcdnvld8cm3w0rc7xxp60am24f...</td>\n",
       "      <td>75.76216739</td>\n",
       "      <td>[3NH1eBb3AXQTQRCQkxZF8wYnm3s4vZPZy8, 3A35FrkSy...</td>\n",
       "      <td>NaN</td>\n",
       "      <td>kraken.com</td>\n",
       "    </tr>\n",
       "    <tr>\n",
       "      <th>7</th>\n",
       "      <td>da610111bae26142eaf02b66998ff70a5cb308f8b104ed...</td>\n",
       "      <td>19tP9NDkXNZTUo8LNJmthc2tTEky8kwnmk</td>\n",
       "      <td>39.83989348</td>\n",
       "      <td>[15rPGbp32DBU4mEcAEtwcEcpx3ZxnUtp1Q]</td>\n",
       "      <td>binance.com</td>\n",
       "      <td>None</td>\n",
       "    </tr>\n",
       "    <tr>\n",
       "      <th>10</th>\n",
       "      <td>da610111bae26142eaf02b66998ff70a5cb308f8b104ed...</td>\n",
       "      <td>18bYvustaVxkxA5wbh9D9adM4vGDCsB3Hd</td>\n",
       "      <td>33.29307079</td>\n",
       "      <td>[15rPGbp32DBU4mEcAEtwcEcpx3ZxnUtp1Q]</td>\n",
       "      <td>binance.com</td>\n",
       "      <td>None</td>\n",
       "    </tr>\n",
       "    <tr>\n",
       "      <th>11</th>\n",
       "      <td>2a9480e8f6d02aa454ceb6c5428b7bd20ce1427317a6ce...</td>\n",
       "      <td>bc1qvzd00zz9jzkmwfnmswhmspryta0f6srmnnj3kr</td>\n",
       "      <td>24.91323426</td>\n",
       "      <td>[3F1486ESEa6e7H3EJ4pRQtaEXNRhavjjy7, 34ePMddFX...</td>\n",
       "      <td>NaN</td>\n",
       "      <td>bitcoin.de</td>\n",
       "    </tr>\n",
       "    <tr>\n",
       "      <th>12</th>\n",
       "      <td>5fe4eb0a791e0ad00c6acf29c6bafa7bad6ac68fbb957d...</td>\n",
       "      <td>bc1q757dcrl8z9ljrzqscpz52l3eywwadald2mt3eg</td>\n",
       "      <td>24.16</td>\n",
       "      <td>[32STz76CGkmMRMU3yUSQtYLT4DKuWhtSvG, bc1quhruq...</td>\n",
       "      <td>binance.com</td>\n",
       "      <td>okx.com</td>\n",
       "    </tr>\n",
       "    <tr>\n",
       "      <th>13</th>\n",
       "      <td>ed9c6d0cda11d4653df5c557f0c214599423ff2c5c4427...</td>\n",
       "      <td>bc1qw5y93pl3v6d4nt2r2ww68xhrhvyjmxqxg0fqqy</td>\n",
       "      <td>19.89999</td>\n",
       "      <td>[1PEbgZszaAHu63Zc3BGVLHWQkEaHKHP1rR, bc1qdkmq7...</td>\n",
       "      <td>NaN</td>\n",
       "      <td>blockfills.com</td>\n",
       "    </tr>\n",
       "    <tr>\n",
       "      <th>17</th>\n",
       "      <td>8dba21254de4e0e91c17f80dcd8631d6680790ef60b109...</td>\n",
       "      <td>19tP9NDkXNZTUo8LNJmthc2tTEky8kwnmk</td>\n",
       "      <td>14.3396675</td>\n",
       "      <td>[bc1qrt7rkpswpgmcag7txzf6ps9mvepwgndshqdx6d]</td>\n",
       "      <td>binance.com</td>\n",
       "      <td>kucoin.com</td>\n",
       "    </tr>\n",
       "    <tr>\n",
       "      <th>26</th>\n",
       "      <td>7966453ed3f53fd19d09caf356bd70461503586c8b1534...</td>\n",
       "      <td>bc1q88zfnu6wjqqpxyaksmc3mcgakwaqt7z68tkw0jx87g...</td>\n",
       "      <td>7.77</td>\n",
       "      <td>[bc1q5x9p784q6jkj4w3cw56h8vejz326yrf6u4tuksgg8...</td>\n",
       "      <td>NaN</td>\n",
       "      <td>okx.com</td>\n",
       "    </tr>\n",
       "    <tr>\n",
       "      <th>29</th>\n",
       "      <td>4165b01713c436b622a8312a931c266bebab02fbf799de...</td>\n",
       "      <td>bc1qqrkgdtcyupzzl8uyzf2wy8yp7qm59h007xr48h</td>\n",
       "      <td>6.72418184</td>\n",
       "      <td>[bc1qnkt02kg6e0xllp29u62z9lqxlgx2v6l9eq2nalgqd...</td>\n",
       "      <td>unknown_distributor_0013</td>\n",
       "      <td>None</td>\n",
       "    </tr>\n",
       "    <tr>\n",
       "      <th>31</th>\n",
       "      <td>119f96f50054c9339de58abc8272547819d98e05bdf757...</td>\n",
       "      <td>3P5EUXLPJwvGBWivCANdyuHHEzHGM6FMeR</td>\n",
       "      <td>6.0062657</td>\n",
       "      <td>[bc1qm34lsc65zpw79lxes69zkqmk6ee3ewf0j77s3h]</td>\n",
       "      <td>coinbase.com</td>\n",
       "      <td>binance.com</td>\n",
       "    </tr>\n",
       "    <tr>\n",
       "      <th>36</th>\n",
       "      <td>79e6078bbdb0eb2c3713d74f22ae260fe5f798ce88c37a...</td>\n",
       "      <td>bc1qnmjcsfe850zy538kdj9hneh0ftffpkg0jw2f97</td>\n",
       "      <td>5</td>\n",
       "      <td>[bc1q7qksf47d7pmmkkguhe723evwp3za3u7qt5992j, b...</td>\n",
       "      <td>NaN</td>\n",
       "      <td>deribit.com</td>\n",
       "    </tr>\n",
       "    <tr>\n",
       "      <th>37</th>\n",
       "      <td>22471c19e0b02b97410902c76bfca1c9fd236698b04421...</td>\n",
       "      <td>1AR9sWV7ZR2C2ohGSDDKXipCfZ3RLGynHM</td>\n",
       "      <td>4.999901</td>\n",
       "      <td>[3GTPEgXtX3DbnUKNurjaLE1KpQEXfAMPhH]</td>\n",
       "      <td>htx.com</td>\n",
       "      <td>None</td>\n",
       "    </tr>\n",
       "    <tr>\n",
       "      <th>41</th>\n",
       "      <td>4a10f4665de9deaa1eda5aa9beb7c834f8b0c8a3bde7fa...</td>\n",
       "      <td>1AR9sWV7ZR2C2ohGSDDKXipCfZ3RLGynHM</td>\n",
       "      <td>4.09763211</td>\n",
       "      <td>[3GTPEgXtX3DbnUKNurjaLE1KpQEXfAMPhH]</td>\n",
       "      <td>htx.com</td>\n",
       "      <td>None</td>\n",
       "    </tr>\n",
       "    <tr>\n",
       "      <th>42</th>\n",
       "      <td>ccbb063cfb29c4a2584d77937ad4f1f840fc100119c740...</td>\n",
       "      <td>1AR9sWV7ZR2C2ohGSDDKXipCfZ3RLGynHM</td>\n",
       "      <td>3.999901</td>\n",
       "      <td>[3GTPEgXtX3DbnUKNurjaLE1KpQEXfAMPhH]</td>\n",
       "      <td>htx.com</td>\n",
       "      <td>None</td>\n",
       "    </tr>\n",
       "    <tr>\n",
       "      <th>44</th>\n",
       "      <td>2a5114778698da227dc5862bc0e46e835b402f47f2dd89...</td>\n",
       "      <td>bc1qns9f7yfx3ry9lj6yz7c9er0vwa0ye2eklpzqfw</td>\n",
       "      <td>3.45567351</td>\n",
       "      <td>[bc1qz07t5gte0qlj9eylppuac4js7d2wmrg7ch06ea, b...</td>\n",
       "      <td>fixedfloat.com</td>\n",
       "      <td>None</td>\n",
       "    </tr>\n",
       "    <tr>\n",
       "      <th>45</th>\n",
       "      <td>40364f81db3c9efb13177947aed9b3cc15ee10871133de...</td>\n",
       "      <td>bc1qcpf0n00lmmxpxxefscl8cf0qsnzchz9kqzhjxdp97h...</td>\n",
       "      <td>3.44</td>\n",
       "      <td>[bc1qlx87a27s84ngdyveaqmcanxre8n4pk6lw998kfncq...</td>\n",
       "      <td>NaN</td>\n",
       "      <td>okx.com</td>\n",
       "    </tr>\n",
       "    <tr>\n",
       "      <th>48</th>\n",
       "      <td>c9869594d89012014f5a7f954ff5452cf8b6b743b8aa92...</td>\n",
       "      <td>339Ns8CiSKX2KHBZ6SkxxXuT53uGiuTQkU</td>\n",
       "      <td>3</td>\n",
       "      <td>[bc1q3ukuvjk6esj4s3kd2306937cdkw2he2tsekhfx]</td>\n",
       "      <td>coinbase.com</td>\n",
       "      <td>None</td>\n",
       "    </tr>\n",
       "    <tr>\n",
       "      <th>53</th>\n",
       "      <td>9858e43c3f3edbc0a38f81570bafc4cb886f68f53b92ad...</td>\n",
       "      <td>bc1qgksrvdaz3mx2j8qp2qanhsjjrqqmzg7petf7gu</td>\n",
       "      <td>2.20289423</td>\n",
       "      <td>[bc1qtkzq49uzh0nn0kd78mulalwwkme57ynnhryjs9]</td>\n",
       "      <td>NaN</td>\n",
       "      <td>cash.app</td>\n",
       "    </tr>\n",
       "    <tr>\n",
       "      <th>54</th>\n",
       "      <td>9858e43c3f3edbc0a38f81570bafc4cb886f68f53b92ad...</td>\n",
       "      <td>bc1q4yq0svlqkdfut43dl3eejyflw3mk9dx8j9h5aj</td>\n",
       "      <td>2.20289419</td>\n",
       "      <td>[bc1qtkzq49uzh0nn0kd78mulalwwkme57ynnhryjs9]</td>\n",
       "      <td>NaN</td>\n",
       "      <td>cash.app</td>\n",
       "    </tr>\n",
       "    <tr>\n",
       "      <th>55</th>\n",
       "      <td>9858e43c3f3edbc0a38f81570bafc4cb886f68f53b92ad...</td>\n",
       "      <td>bc1qvdjtjnln4sxu5jcx8x32ms0s8vkztkkyh5ey7s</td>\n",
       "      <td>2.20289419</td>\n",
       "      <td>[bc1qtkzq49uzh0nn0kd78mulalwwkme57ynnhryjs9]</td>\n",
       "      <td>NaN</td>\n",
       "      <td>cash.app</td>\n",
       "    </tr>\n",
       "    <tr>\n",
       "      <th>56</th>\n",
       "      <td>9858e43c3f3edbc0a38f81570bafc4cb886f68f53b92ad...</td>\n",
       "      <td>bc1qxgulnjrgvwsedsuzyuy0gw22n0ak4caz58l9p6</td>\n",
       "      <td>2.20289419</td>\n",
       "      <td>[bc1qtkzq49uzh0nn0kd78mulalwwkme57ynnhryjs9]</td>\n",
       "      <td>NaN</td>\n",
       "      <td>cash.app</td>\n",
       "    </tr>\n",
       "    <tr>\n",
       "      <th>57</th>\n",
       "      <td>9858e43c3f3edbc0a38f81570bafc4cb886f68f53b92ad...</td>\n",
       "      <td>bc1qvenkn9lqnr0g6h77rpydu4j3earvzg0yndst6n</td>\n",
       "      <td>2.20289419</td>\n",
       "      <td>[bc1qtkzq49uzh0nn0kd78mulalwwkme57ynnhryjs9]</td>\n",
       "      <td>NaN</td>\n",
       "      <td>cash.app</td>\n",
       "    </tr>\n",
       "    <tr>\n",
       "      <th>58</th>\n",
       "      <td>9858e43c3f3edbc0a38f81570bafc4cb886f68f53b92ad...</td>\n",
       "      <td>bc1qta3syjrvwcy2z9ueyxe2mfsk9ekw3q7e6m3azf</td>\n",
       "      <td>2.20289419</td>\n",
       "      <td>[bc1qtkzq49uzh0nn0kd78mulalwwkme57ynnhryjs9]</td>\n",
       "      <td>NaN</td>\n",
       "      <td>cash.app</td>\n",
       "    </tr>\n",
       "    <tr>\n",
       "      <th>59</th>\n",
       "      <td>9858e43c3f3edbc0a38f81570bafc4cb886f68f53b92ad...</td>\n",
       "      <td>bc1qd27ttgh3v3jglp8tld80rlz0464lmr27mjjcy9</td>\n",
       "      <td>2.20289419</td>\n",
       "      <td>[bc1qtkzq49uzh0nn0kd78mulalwwkme57ynnhryjs9]</td>\n",
       "      <td>NaN</td>\n",
       "      <td>cash.app</td>\n",
       "    </tr>\n",
       "    <tr>\n",
       "      <th>60</th>\n",
       "      <td>9858e43c3f3edbc0a38f81570bafc4cb886f68f53b92ad...</td>\n",
       "      <td>bc1q0csdfq4aszf2uzqjjxwc7p5su25c29unvmycmc</td>\n",
       "      <td>2.20289419</td>\n",
       "      <td>[bc1qtkzq49uzh0nn0kd78mulalwwkme57ynnhryjs9]</td>\n",
       "      <td>NaN</td>\n",
       "      <td>cash.app</td>\n",
       "    </tr>\n",
       "    <tr>\n",
       "      <th>61</th>\n",
       "      <td>12f4211debafed7d461af82818dc4aa34a27109de3afcb...</td>\n",
       "      <td>bc1qqkznwex0zjhlccge3g328gurqzf77n3p3nnnlm</td>\n",
       "      <td>2.1359875</td>\n",
       "      <td>[3FdqJfiZUQVtortv9thna5Xf9amNvzK8Fu, 32RfdV7Nb...</td>\n",
       "      <td>NaN</td>\n",
       "      <td>coinbase.com</td>\n",
       "    </tr>\n",
       "    <tr>\n",
       "      <th>62</th>\n",
       "      <td>4bde671cd876d86b38adb79aafa26d44a9f73e40b7b109...</td>\n",
       "      <td>bc1qrf25y7yqxnwjh9hqqh8vcsnexp065zmzxgwlqg</td>\n",
       "      <td>2.10467973</td>\n",
       "      <td>[32Z9CENN2sHUiiATEHRUnU7L4GPu4mzYD3, 34F88UkcE...</td>\n",
       "      <td>NaN</td>\n",
       "      <td>coinbase.com</td>\n",
       "    </tr>\n",
       "    <tr>\n",
       "      <th>85</th>\n",
       "      <td>fe3b337447850a6db5b367a0f7d573374abcdba125ced0...</td>\n",
       "      <td>bc1qddguk05m9290rauh4mqaf59rh0n3quayu3qvrq</td>\n",
       "      <td>1.03325975</td>\n",
       "      <td>[bc1q7cyrfmck2ffu2ud3rn5l5a8yv6f0chkp0zpemf]</td>\n",
       "      <td>NaN</td>\n",
       "      <td>crypto.com</td>\n",
       "    </tr>\n",
       "    <tr>\n",
       "      <th>86</th>\n",
       "      <td>4165b01713c436b622a8312a931c266bebab02fbf799de...</td>\n",
       "      <td>395ievGK13NVCMn9CVuG8BA6gyxQjL3VQG</td>\n",
       "      <td>1.03295208</td>\n",
       "      <td>[bc1qnkt02kg6e0xllp29u62z9lqxlgx2v6l9eq2nalgqd...</td>\n",
       "      <td>bittrexglobal.com</td>\n",
       "      <td>None</td>\n",
       "    </tr>\n",
       "    <tr>\n",
       "      <th>88</th>\n",
       "      <td>3e5a81bfce3e4bf09d6733549686023ce9a2c6310d39cf...</td>\n",
       "      <td>bc1qqjl3d0ysvea7nwqanrwv7r22mlvgv88c7p0dm3</td>\n",
       "      <td>1</td>\n",
       "      <td>[35CPFvrhRvyYNdVznBnhL8mkotxDnZ4RmS, bc1qrcdfa...</td>\n",
       "      <td>NaN</td>\n",
       "      <td>kraken.com</td>\n",
       "    </tr>\n",
       "    <tr>\n",
       "      <th>90</th>\n",
       "      <td>40bfacbeaaa3113e7843fd71bbc3d3097e61547f814012...</td>\n",
       "      <td>bc1qlxvpzuxdk3h8m5yx6j0yhq45pw3exnceymg7f9</td>\n",
       "      <td>1</td>\n",
       "      <td>[3Msph4hwNgQX9SNujmoFBufkYvqYWCDztx]</td>\n",
       "      <td>binance.com</td>\n",
       "      <td>nexo.io</td>\n",
       "    </tr>\n",
       "  </tbody>\n",
       "</table>\n",
       "</div>"
      ],
      "text/plain": [
       "                                              tx_hash  \\\n",
       "1   3f55299ddf3cc3a0f43d5fd84bc3fb90083bd106654839...   \n",
       "3   3e5a81bfce3e4bf09d6733549686023ce9a2c6310d39cf...   \n",
       "7   da610111bae26142eaf02b66998ff70a5cb308f8b104ed...   \n",
       "10  da610111bae26142eaf02b66998ff70a5cb308f8b104ed...   \n",
       "11  2a9480e8f6d02aa454ceb6c5428b7bd20ce1427317a6ce...   \n",
       "12  5fe4eb0a791e0ad00c6acf29c6bafa7bad6ac68fbb957d...   \n",
       "13  ed9c6d0cda11d4653df5c557f0c214599423ff2c5c4427...   \n",
       "17  8dba21254de4e0e91c17f80dcd8631d6680790ef60b109...   \n",
       "26  7966453ed3f53fd19d09caf356bd70461503586c8b1534...   \n",
       "29  4165b01713c436b622a8312a931c266bebab02fbf799de...   \n",
       "31  119f96f50054c9339de58abc8272547819d98e05bdf757...   \n",
       "36  79e6078bbdb0eb2c3713d74f22ae260fe5f798ce88c37a...   \n",
       "37  22471c19e0b02b97410902c76bfca1c9fd236698b04421...   \n",
       "41  4a10f4665de9deaa1eda5aa9beb7c834f8b0c8a3bde7fa...   \n",
       "42  ccbb063cfb29c4a2584d77937ad4f1f840fc100119c740...   \n",
       "44  2a5114778698da227dc5862bc0e46e835b402f47f2dd89...   \n",
       "45  40364f81db3c9efb13177947aed9b3cc15ee10871133de...   \n",
       "48  c9869594d89012014f5a7f954ff5452cf8b6b743b8aa92...   \n",
       "53  9858e43c3f3edbc0a38f81570bafc4cb886f68f53b92ad...   \n",
       "54  9858e43c3f3edbc0a38f81570bafc4cb886f68f53b92ad...   \n",
       "55  9858e43c3f3edbc0a38f81570bafc4cb886f68f53b92ad...   \n",
       "56  9858e43c3f3edbc0a38f81570bafc4cb886f68f53b92ad...   \n",
       "57  9858e43c3f3edbc0a38f81570bafc4cb886f68f53b92ad...   \n",
       "58  9858e43c3f3edbc0a38f81570bafc4cb886f68f53b92ad...   \n",
       "59  9858e43c3f3edbc0a38f81570bafc4cb886f68f53b92ad...   \n",
       "60  9858e43c3f3edbc0a38f81570bafc4cb886f68f53b92ad...   \n",
       "61  12f4211debafed7d461af82818dc4aa34a27109de3afcb...   \n",
       "62  4bde671cd876d86b38adb79aafa26d44a9f73e40b7b109...   \n",
       "85  fe3b337447850a6db5b367a0f7d573374abcdba125ced0...   \n",
       "86  4165b01713c436b622a8312a931c266bebab02fbf799de...   \n",
       "88  3e5a81bfce3e4bf09d6733549686023ce9a2c6310d39cf...   \n",
       "90  40bfacbeaaa3113e7843fd71bbc3d3097e61547f814012...   \n",
       "\n",
       "                                       output_address        value  \\\n",
       "1                   17aoxXuaHDtRprwUMMEM9P4jUtQjPrEWX  84.84626999   \n",
       "3   bc1qz8z9wnx4cav4qam8wcdnvld8cm3w0rc7xxp60am24f...  75.76216739   \n",
       "7                  19tP9NDkXNZTUo8LNJmthc2tTEky8kwnmk  39.83989348   \n",
       "10                 18bYvustaVxkxA5wbh9D9adM4vGDCsB3Hd  33.29307079   \n",
       "11         bc1qvzd00zz9jzkmwfnmswhmspryta0f6srmnnj3kr  24.91323426   \n",
       "12         bc1q757dcrl8z9ljrzqscpz52l3eywwadald2mt3eg        24.16   \n",
       "13         bc1qw5y93pl3v6d4nt2r2ww68xhrhvyjmxqxg0fqqy     19.89999   \n",
       "17                 19tP9NDkXNZTUo8LNJmthc2tTEky8kwnmk   14.3396675   \n",
       "26  bc1q88zfnu6wjqqpxyaksmc3mcgakwaqt7z68tkw0jx87g...         7.77   \n",
       "29         bc1qqrkgdtcyupzzl8uyzf2wy8yp7qm59h007xr48h   6.72418184   \n",
       "31                 3P5EUXLPJwvGBWivCANdyuHHEzHGM6FMeR    6.0062657   \n",
       "36         bc1qnmjcsfe850zy538kdj9hneh0ftffpkg0jw2f97            5   \n",
       "37                 1AR9sWV7ZR2C2ohGSDDKXipCfZ3RLGynHM     4.999901   \n",
       "41                 1AR9sWV7ZR2C2ohGSDDKXipCfZ3RLGynHM   4.09763211   \n",
       "42                 1AR9sWV7ZR2C2ohGSDDKXipCfZ3RLGynHM     3.999901   \n",
       "44         bc1qns9f7yfx3ry9lj6yz7c9er0vwa0ye2eklpzqfw   3.45567351   \n",
       "45  bc1qcpf0n00lmmxpxxefscl8cf0qsnzchz9kqzhjxdp97h...         3.44   \n",
       "48                 339Ns8CiSKX2KHBZ6SkxxXuT53uGiuTQkU            3   \n",
       "53         bc1qgksrvdaz3mx2j8qp2qanhsjjrqqmzg7petf7gu   2.20289423   \n",
       "54         bc1q4yq0svlqkdfut43dl3eejyflw3mk9dx8j9h5aj   2.20289419   \n",
       "55         bc1qvdjtjnln4sxu5jcx8x32ms0s8vkztkkyh5ey7s   2.20289419   \n",
       "56         bc1qxgulnjrgvwsedsuzyuy0gw22n0ak4caz58l9p6   2.20289419   \n",
       "57         bc1qvenkn9lqnr0g6h77rpydu4j3earvzg0yndst6n   2.20289419   \n",
       "58         bc1qta3syjrvwcy2z9ueyxe2mfsk9ekw3q7e6m3azf   2.20289419   \n",
       "59         bc1qd27ttgh3v3jglp8tld80rlz0464lmr27mjjcy9   2.20289419   \n",
       "60         bc1q0csdfq4aszf2uzqjjxwc7p5su25c29unvmycmc   2.20289419   \n",
       "61         bc1qqkznwex0zjhlccge3g328gurqzf77n3p3nnnlm    2.1359875   \n",
       "62         bc1qrf25y7yqxnwjh9hqqh8vcsnexp065zmzxgwlqg   2.10467973   \n",
       "85         bc1qddguk05m9290rauh4mqaf59rh0n3quayu3qvrq   1.03325975   \n",
       "86                 395ievGK13NVCMn9CVuG8BA6gyxQjL3VQG   1.03295208   \n",
       "88         bc1qqjl3d0ysvea7nwqanrwv7r22mlvgv88c7p0dm3            1   \n",
       "90         bc1qlxvpzuxdk3h8m5yx6j0yhq45pw3exnceymg7f9            1   \n",
       "\n",
       "                                      input_addresses  \\\n",
       "1                [324H9uyTV9bPgAVgmdJNxPKKKZmowk5CYq]   \n",
       "3   [3NH1eBb3AXQTQRCQkxZF8wYnm3s4vZPZy8, 3A35FrkSy...   \n",
       "7                [15rPGbp32DBU4mEcAEtwcEcpx3ZxnUtp1Q]   \n",
       "10               [15rPGbp32DBU4mEcAEtwcEcpx3ZxnUtp1Q]   \n",
       "11  [3F1486ESEa6e7H3EJ4pRQtaEXNRhavjjy7, 34ePMddFX...   \n",
       "12  [32STz76CGkmMRMU3yUSQtYLT4DKuWhtSvG, bc1quhruq...   \n",
       "13  [1PEbgZszaAHu63Zc3BGVLHWQkEaHKHP1rR, bc1qdkmq7...   \n",
       "17       [bc1qrt7rkpswpgmcag7txzf6ps9mvepwgndshqdx6d]   \n",
       "26  [bc1q5x9p784q6jkj4w3cw56h8vejz326yrf6u4tuksgg8...   \n",
       "29  [bc1qnkt02kg6e0xllp29u62z9lqxlgx2v6l9eq2nalgqd...   \n",
       "31       [bc1qm34lsc65zpw79lxes69zkqmk6ee3ewf0j77s3h]   \n",
       "36  [bc1q7qksf47d7pmmkkguhe723evwp3za3u7qt5992j, b...   \n",
       "37               [3GTPEgXtX3DbnUKNurjaLE1KpQEXfAMPhH]   \n",
       "41               [3GTPEgXtX3DbnUKNurjaLE1KpQEXfAMPhH]   \n",
       "42               [3GTPEgXtX3DbnUKNurjaLE1KpQEXfAMPhH]   \n",
       "44  [bc1qz07t5gte0qlj9eylppuac4js7d2wmrg7ch06ea, b...   \n",
       "45  [bc1qlx87a27s84ngdyveaqmcanxre8n4pk6lw998kfncq...   \n",
       "48       [bc1q3ukuvjk6esj4s3kd2306937cdkw2he2tsekhfx]   \n",
       "53       [bc1qtkzq49uzh0nn0kd78mulalwwkme57ynnhryjs9]   \n",
       "54       [bc1qtkzq49uzh0nn0kd78mulalwwkme57ynnhryjs9]   \n",
       "55       [bc1qtkzq49uzh0nn0kd78mulalwwkme57ynnhryjs9]   \n",
       "56       [bc1qtkzq49uzh0nn0kd78mulalwwkme57ynnhryjs9]   \n",
       "57       [bc1qtkzq49uzh0nn0kd78mulalwwkme57ynnhryjs9]   \n",
       "58       [bc1qtkzq49uzh0nn0kd78mulalwwkme57ynnhryjs9]   \n",
       "59       [bc1qtkzq49uzh0nn0kd78mulalwwkme57ynnhryjs9]   \n",
       "60       [bc1qtkzq49uzh0nn0kd78mulalwwkme57ynnhryjs9]   \n",
       "61  [3FdqJfiZUQVtortv9thna5Xf9amNvzK8Fu, 32RfdV7Nb...   \n",
       "62  [32Z9CENN2sHUiiATEHRUnU7L4GPu4mzYD3, 34F88UkcE...   \n",
       "85       [bc1q7cyrfmck2ffu2ud3rn5l5a8yv6f0chkp0zpemf]   \n",
       "86  [bc1qnkt02kg6e0xllp29u62z9lqxlgx2v6l9eq2nalgqd...   \n",
       "88  [35CPFvrhRvyYNdVznBnhL8mkotxDnZ4RmS, bc1qrcdfa...   \n",
       "90               [3Msph4hwNgQX9SNujmoFBufkYvqYWCDztx]   \n",
       "\n",
       "               output_entity    input_entity  \n",
       "1              cumberland.io     bullish.com  \n",
       "3                        NaN      kraken.com  \n",
       "7                binance.com            None  \n",
       "10               binance.com            None  \n",
       "11                       NaN      bitcoin.de  \n",
       "12               binance.com         okx.com  \n",
       "13                       NaN  blockfills.com  \n",
       "17               binance.com      kucoin.com  \n",
       "26                       NaN         okx.com  \n",
       "29  unknown_distributor_0013            None  \n",
       "31              coinbase.com     binance.com  \n",
       "36                       NaN     deribit.com  \n",
       "37                   htx.com            None  \n",
       "41                   htx.com            None  \n",
       "42                   htx.com            None  \n",
       "44            fixedfloat.com            None  \n",
       "45                       NaN         okx.com  \n",
       "48              coinbase.com            None  \n",
       "53                       NaN        cash.app  \n",
       "54                       NaN        cash.app  \n",
       "55                       NaN        cash.app  \n",
       "56                       NaN        cash.app  \n",
       "57                       NaN        cash.app  \n",
       "58                       NaN        cash.app  \n",
       "59                       NaN        cash.app  \n",
       "60                       NaN        cash.app  \n",
       "61                       NaN    coinbase.com  \n",
       "62                       NaN    coinbase.com  \n",
       "85                       NaN      crypto.com  \n",
       "86         bittrexglobal.com            None  \n",
       "88                       NaN      kraken.com  \n",
       "90               binance.com         nexo.io  "
      ]
     },
     "execution_count": 6,
     "metadata": {},
     "output_type": "execute_result"
    }
   ],
   "source": [
    "df['output_entity'] = df['output_address'].map(attribution_dict)\n",
    "df['input_entity'] = [\n",
    "    next((attribution_dict[key] for key in addresses if key in attribution_dict), None)\n",
    "    for addresses in df['input_addresses']\n",
    "]\n",
    "\n",
    "df.dropna(subset=['input_entity', 'output_entity'], how='all', inplace=True)\n",
    "df = df[df['input_entity'] != df['output_entity']]\n",
    "# Ensure 'input_entity' is a string type before using str.startswith\n",
    "df = df[~df['input_entity'].astype(str).str.startswith('fastmoney_') & ~df['output_entity'].astype(str).str.startswith('fastmoney_')]\n",
    "\n",
    "df"
   ]
  },
  {
   "cell_type": "code",
   "execution_count": 7,
   "id": "f00a8441-700c-4670-a69c-983c2e6dc2b6",
   "metadata": {
    "isPromptEdit": false
   },
   "outputs": [
    {
     "data": {
      "text/plain": [
       "'[{\"tx_hash\":\"3f55299ddf3cc3a0f43d5fd84bc3fb90083bd1066548390aa4b56c5cb3df0094\",\"input_entity\":\"bullish.com\",\"output_entity\":\"cumberland.io\",\"value\":84.84626999},{\"tx_hash\":\"3e5a81bfce3e4bf09d6733549686023ce9a2c6310d39cfe0409c7d4db38d0f0e\",\"input_entity\":\"kraken.com\",\"output_entity\":null,\"value\":75.76216739},{\"tx_hash\":\"da610111bae26142eaf02b66998ff70a5cb308f8b104ed27b16491e9521968c2\",\"input_entity\":null,\"output_entity\":\"binance.com\",\"value\":39.83989348},{\"tx_hash\":\"da610111bae26142eaf02b66998ff70a5cb308f8b104ed27b16491e9521968c2\",\"input_entity\":null,\"output_entity\":\"binance.com\",\"value\":33.29307079},{\"tx_hash\":\"2a9480e8f6d02aa454ceb6c5428b7bd20ce1427317a6ce0e5dd18f1e1eb15d1c\",\"input_entity\":\"bitcoin.de\",\"output_entity\":null,\"value\":24.91323426},{\"tx_hash\":\"5fe4eb0a791e0ad00c6acf29c6bafa7bad6ac68fbb957d08b99541dedf109145\",\"input_entity\":\"okx.com\",\"output_entity\":\"binance.com\",\"value\":24.16},{\"tx_hash\":\"ed9c6d0cda11d4653df5c557f0c214599423ff2c5c4427f47204f3da9c118e91\",\"input_entity\":\"blockfills.com\",\"output_entity\":null,\"value\":19.89999},{\"tx_hash\":\"8dba21254de4e0e91c17f80dcd8631d6680790ef60b10979f65b7945c47a20bc\",\"input_entity\":\"kucoin.com\",\"output_entity\":\"binance.com\",\"value\":14.3396675},{\"tx_hash\":\"7966453ed3f53fd19d09caf356bd70461503586c8b15341875115f3d46d55fb3\",\"input_entity\":\"okx.com\",\"output_entity\":null,\"value\":7.77},{\"tx_hash\":\"4165b01713c436b622a8312a931c266bebab02fbf799de50be239f44015d6d68\",\"input_entity\":null,\"output_entity\":\"unknown_distributor_0013\",\"value\":6.72418184},{\"tx_hash\":\"119f96f50054c9339de58abc8272547819d98e05bdf757ec1a6f86b8223ed284\",\"input_entity\":\"binance.com\",\"output_entity\":\"coinbase.com\",\"value\":6.0062657},{\"tx_hash\":\"79e6078bbdb0eb2c3713d74f22ae260fe5f798ce88c37a746c50681a7b021544\",\"input_entity\":\"deribit.com\",\"output_entity\":null,\"value\":5.0},{\"tx_hash\":\"22471c19e0b02b97410902c76bfca1c9fd236698b04421bb9192516b79023c98\",\"input_entity\":null,\"output_entity\":\"htx.com\",\"value\":4.999901},{\"tx_hash\":\"4a10f4665de9deaa1eda5aa9beb7c834f8b0c8a3bde7fab74130fa638cc65885\",\"input_entity\":null,\"output_entity\":\"htx.com\",\"value\":4.09763211},{\"tx_hash\":\"ccbb063cfb29c4a2584d77937ad4f1f840fc100119c740df8a4b15deaf3b64e7\",\"input_entity\":null,\"output_entity\":\"htx.com\",\"value\":3.999901},{\"tx_hash\":\"2a5114778698da227dc5862bc0e46e835b402f47f2dd892ebcf584a618931f8e\",\"input_entity\":null,\"output_entity\":\"fixedfloat.com\",\"value\":3.45567351},{\"tx_hash\":\"40364f81db3c9efb13177947aed9b3cc15ee10871133de31243bb3ad4ff4fa5e\",\"input_entity\":\"okx.com\",\"output_entity\":null,\"value\":3.44},{\"tx_hash\":\"c9869594d89012014f5a7f954ff5452cf8b6b743b8aa9260705e227cf7ea86a5\",\"input_entity\":null,\"output_entity\":\"coinbase.com\",\"value\":3.0},{\"tx_hash\":\"9858e43c3f3edbc0a38f81570bafc4cb886f68f53b92ade82df1403b4071b2d1\",\"input_entity\":\"cash.app\",\"output_entity\":null,\"value\":2.20289423},{\"tx_hash\":\"9858e43c3f3edbc0a38f81570bafc4cb886f68f53b92ade82df1403b4071b2d1\",\"input_entity\":\"cash.app\",\"output_entity\":null,\"value\":2.20289419},{\"tx_hash\":\"9858e43c3f3edbc0a38f81570bafc4cb886f68f53b92ade82df1403b4071b2d1\",\"input_entity\":\"cash.app\",\"output_entity\":null,\"value\":2.20289419},{\"tx_hash\":\"9858e43c3f3edbc0a38f81570bafc4cb886f68f53b92ade82df1403b4071b2d1\",\"input_entity\":\"cash.app\",\"output_entity\":null,\"value\":2.20289419},{\"tx_hash\":\"9858e43c3f3edbc0a38f81570bafc4cb886f68f53b92ade82df1403b4071b2d1\",\"input_entity\":\"cash.app\",\"output_entity\":null,\"value\":2.20289419},{\"tx_hash\":\"9858e43c3f3edbc0a38f81570bafc4cb886f68f53b92ade82df1403b4071b2d1\",\"input_entity\":\"cash.app\",\"output_entity\":null,\"value\":2.20289419},{\"tx_hash\":\"9858e43c3f3edbc0a38f81570bafc4cb886f68f53b92ade82df1403b4071b2d1\",\"input_entity\":\"cash.app\",\"output_entity\":null,\"value\":2.20289419},{\"tx_hash\":\"9858e43c3f3edbc0a38f81570bafc4cb886f68f53b92ade82df1403b4071b2d1\",\"input_entity\":\"cash.app\",\"output_entity\":null,\"value\":2.20289419},{\"tx_hash\":\"12f4211debafed7d461af82818dc4aa34a27109de3afcbf1668f7c6ee88bfdcc\",\"input_entity\":\"coinbase.com\",\"output_entity\":null,\"value\":2.1359875},{\"tx_hash\":\"4bde671cd876d86b38adb79aafa26d44a9f73e40b7b1097942b15f3f016f9015\",\"input_entity\":\"coinbase.com\",\"output_entity\":null,\"value\":2.10467973},{\"tx_hash\":\"fe3b337447850a6db5b367a0f7d573374abcdba125ced0b089fe27fc7e23f596\",\"input_entity\":\"crypto.com\",\"output_entity\":null,\"value\":1.03325975},{\"tx_hash\":\"4165b01713c436b622a8312a931c266bebab02fbf799de50be239f44015d6d68\",\"input_entity\":null,\"output_entity\":\"bittrexglobal.com\",\"value\":1.03295208},{\"tx_hash\":\"3e5a81bfce3e4bf09d6733549686023ce9a2c6310d39cfe0409c7d4db38d0f0e\",\"input_entity\":\"kraken.com\",\"output_entity\":null,\"value\":1.0},{\"tx_hash\":\"40bfacbeaaa3113e7843fd71bbc3d3097e61547f814012adfab6f6ab384b4b3f\",\"input_entity\":\"nexo.io\",\"output_entity\":\"binance.com\",\"value\":1.0}]'"
      ]
     },
     "execution_count": 7,
     "metadata": {},
     "output_type": "execute_result"
    }
   ],
   "source": [
    "# Convert DataFrame to JSON string\n",
    "json_string = df[['tx_hash', 'input_entity', 'output_entity', 'value']].to_json(orient='records')\n",
    "\n",
    "json_string"
   ]
  },
  {
   "cell_type": "markdown",
   "id": "75ca9432",
   "metadata": {},
   "source": [
    "### Create X Post using X AI to generate on-chain insights from transaction data"
   ]
  },
  {
   "cell_type": "code",
   "execution_count": null,
   "id": "353e21d4-33f0-4a0d-8500-9ca3aef731ec",
   "metadata": {},
   "outputs": [
    {
     "name": "stderr",
     "output_type": "stream",
     "text": [
      "Unclosed client session\n",
      "client_session: <aiohttp.client.ClientSession object at 0x173dac770>\n"
     ]
    },
    {
     "data": {
      "text/markdown": [
       "## X Post\n",
       "Cumberland receives 84.85 BTC from Bullish, major inflows to Binance, Kraken outflows high—price impact potential. Stay alert! #Bitcoin #CryptoNews"
      ],
      "text/plain": [
       "<IPython.core.display.Markdown object>"
      ]
     },
     "metadata": {},
     "output_type": "display_data"
    }
   ],
   "source": [
    "from openai import OpenAI\n",
    "from IPython.display import display, Markdown\n",
    "\n",
    "OPENAI_API_KEY = get_openai_api_key()\n",
    "\n",
    "client = OpenAI(\n",
    "    api_key=OPENAI_API_KEY,\n",
    "    #base_url=\"https://api.x.ai/v1\",\n",
    "    base_url=\"https://api.openai.com/v1\",\n",
    ")\n",
    "\n",
    "completion = client.chat.completions.create(\n",
    "    #model=\"grok-2-latest\",\n",
    "    model=\"gpt-4o\",\n",
    "    messages=[\n",
    "        {\n",
    "            \"role\": \"system\",\n",
    "            \"content\": \"You are an expert in Bitcoin blockchain analytics and market structure\"\n",
    "        },\n",
    "        {\n",
    "            \"role\": \"user\",\n",
    "            \"content\": \"Given a list of Bitcoin transactions attributed to entities and news currently trending on Crypto Twitter create an X post explaining the most inportant on-chain insights, which may affect BTC/USD price. Provide only the text ready to be sent via X API without any additional comments. Limit the text to 160 characters. \" + json_string\n",
    "        },\n",
    "    ],\n",
    "    temperature=0.8,\n",
    ")\n",
    "\n",
    "display(Markdown(f\"## X Post\\n{completion.choices[0].message.content}\"))\n"
   ]
  },
  {
   "cell_type": "markdown",
   "id": "8662a8e7",
   "metadata": {},
   "source": [
    "### Tweet the generated post"
   ]
  },
  {
   "cell_type": "code",
   "execution_count": 10,
   "id": "28ac98f4",
   "metadata": {},
   "outputs": [
    {
     "data": {
      "text/plain": [
       "{'data': {'create_tweet': {'tweet_results': {'result': {'rest_id': '1890860377707073623',\n",
       "     'has_birdwatch_notes': False,\n",
       "     'core': {'user_results': {'result': {'__typename': 'User',\n",
       "        'id': 'VXNlcjo5MDA3MjgwNTgyNTYxMzgyNDA=',\n",
       "        'rest_id': '900728058256138240',\n",
       "        'affiliates_highlighted_label': {},\n",
       "        'has_graduated_access': True,\n",
       "        'is_blue_verified': True,\n",
       "        'profile_image_shape': 'Circle',\n",
       "        'legacy': {'can_dm': True,\n",
       "         'can_media_tag': True,\n",
       "         'created_at': 'Thu Aug 24 14:34:38 +0000 2017',\n",
       "         'default_profile': False,\n",
       "         'default_profile_image': False,\n",
       "         'description': 'We enable companies of all sizes to make better, faster decisions on the blockchain',\n",
       "         'entities': {'description': {'urls': []},\n",
       "          'url': {'urls': [{'display_url': 'elementus.io',\n",
       "             'expanded_url': 'https://elementus.io/',\n",
       "             'url': 'https://t.co/h7wrEp5WjF',\n",
       "             'indices': [0, 23]}]}},\n",
       "         'fast_followers_count': 0,\n",
       "         'favourites_count': 1557,\n",
       "         'followers_count': 14828,\n",
       "         'friends_count': 1011,\n",
       "         'has_custom_timelines': False,\n",
       "         'is_translator': False,\n",
       "         'listed_count': 154,\n",
       "         'location': 'New York, NY',\n",
       "         'media_count': 140,\n",
       "         'name': 'Elementus',\n",
       "         'needs_phone_verification': False,\n",
       "         'normal_followers_count': 14828,\n",
       "         'pinned_tweet_ids_str': ['1750178864054083767'],\n",
       "         'possibly_sensitive': False,\n",
       "         'profile_banner_url': 'https://pbs.twimg.com/profile_banners/900728058256138240/1695136189',\n",
       "         'profile_image_url_https': 'https://pbs.twimg.com/profile_images/1582777477340053505/Q4taD9qL_normal.jpg',\n",
       "         'profile_interstitial_type': '',\n",
       "         'screen_name': 'elementus_io',\n",
       "         'statuses_count': 847,\n",
       "         'translator_type': 'none',\n",
       "         'url': 'https://t.co/h7wrEp5WjF',\n",
       "         'verified': False,\n",
       "         'want_retweets': False,\n",
       "         'withheld_in_countries': []},\n",
       "        'professional': {'rest_id': '1701263939676369237',\n",
       "         'professional_type': 'Business',\n",
       "         'category': [{'id': 192,\n",
       "           'name': 'Financial Services',\n",
       "           'display': True,\n",
       "           'icon_name': 'IconBriefcaseStroke'}]},\n",
       "        'smart_blocked_by': False,\n",
       "        'smart_blocking': False}}},\n",
       "     'unmention_data': {},\n",
       "     'edit_control': {'edit_tweet_ids': ['1890860377707073623'],\n",
       "      'editable_until_msecs': '1739654819000',\n",
       "      'is_edit_eligible': True,\n",
       "      'edits_remaining': '5'},\n",
       "     'is_translatable': False,\n",
       "     'views': {'state': 'Enabled'},\n",
       "     'source': '<a href=\"https://mobile.twitter.com\" rel=\"nofollow\">Twitter Web App</a>',\n",
       "     'legacy': {'bookmark_count': 0,\n",
       "      'bookmarked': False,\n",
       "      'created_at': 'Sat Feb 15 20:26:59 +0000 2025',\n",
       "      'conversation_id_str': '1890860377707073623',\n",
       "      'display_text_range': [0, 167],\n",
       "      'entities': {'user_mentions': [],\n",
       "       'urls': [],\n",
       "       'hashtags': [],\n",
       "       'symbols': []},\n",
       "      'favorite_count': 0,\n",
       "      'favorited': False,\n",
       "      'full_text': 'Large outflows from Coinbase (465+ BTC) and Kraken (78+ BTC) suggest potential selling pressure. Binance sees mixed flows, adding complexity to BTC/USD price dynamics.',\n",
       "      'is_quote_status': False,\n",
       "      'lang': 'en',\n",
       "      'quote_count': 0,\n",
       "      'reply_count': 0,\n",
       "      'retweet_count': 0,\n",
       "      'retweeted': False,\n",
       "      'user_id_str': '900728058256138240',\n",
       "      'id_str': '1890860377707073623'},\n",
       "     'quick_promote_eligibility': {'eligibility': 'Eligible'},\n",
       "     'unmention_info': {}}}}}}"
      ]
     },
     "execution_count": 10,
     "metadata": {},
     "output_type": "execute_result"
    }
   ],
   "source": [
    "from twitter.account import Account\n",
    "\n",
    "account = Account(cookies={\"ct0\": \"\", \"auth_token\": \"\"})\n",
    "account.tweet(text=completion.choices[0].message.content)"
   ]
  }
 ],
 "metadata": {
  "kernelspec": {
   "display_name": "torch",
   "language": "python",
   "name": "python3"
  },
  "language_info": {
   "codemirror_mode": {
    "name": "ipython",
    "version": 3
   },
   "file_extension": ".py",
   "mimetype": "text/x-python",
   "name": "python",
   "nbconvert_exporter": "python",
   "pygments_lexer": "ipython3",
   "version": "3.12.6"
  }
 },
 "nbformat": 4,
 "nbformat_minor": 5
}
