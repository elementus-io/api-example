{
 "cells": [
  {
   "cell_type": "code",
   "execution_count": 1,
   "id": "7fa8c541",
   "metadata": {},
   "outputs": [
    {
     "name": "stdout",
     "output_type": "stream",
     "text": [
      "Note: you may need to restart the kernel to use updated packages.\n"
     ]
    }
   ],
   "source": [
    "%pip install python-dotenv jupysql duckdb duckdb-engine sqlalchemy openai twitter-api-client --quiet"
   ]
  },
  {
   "cell_type": "markdown",
   "id": "6c717aa9",
   "metadata": {},
   "source": [
    "# Elementus API Usage Example"
   ]
  },
  {
   "cell_type": "code",
   "execution_count": 1,
   "id": "88d296a6",
   "metadata": {},
   "outputs": [
    {
     "name": "stderr",
     "output_type": "stream",
     "text": [
      "/opt/homebrew/Caskroom/miniforge/base/envs/torch/lib/python3.12/site-packages/google/auth/_default.py:76: UserWarning: Your application has authenticated using end user credentials from Google Cloud SDK without a quota project. You might receive a \"quota exceeded\" or \"API not enabled\" error. See the following page for troubleshooting: https://cloud.google.com/docs/authentication/adc-troubleshooting/user-creds. \n",
      "  warnings.warn(_CLOUD_SDK_CREDENTIALS_WARNING)\n"
     ]
    }
   ],
   "source": [
    "from elementus import ElementusClient, ElementusAPIError\n",
    "import matplotlib.pyplot as plt\n",
    "import pandas as pd\n",
    "from sqlalchemy import *\n",
    "from sqlalchemy.engine import create_engine\n",
    "from sqlalchemy.schema import *\n",
    "from helper import *\n",
    "import os\n",
    "\n",
    "# Load the environment variables\n",
    "load_env()\n",
    "\n",
    "# Retrieve Google BigQuery connection string from the environment\n",
    "GBQ_URI = get_gbq_uri()\n",
    "engine = create_engine(GBQ_URI)\n",
    "\n",
    "# Retrieve the API key from the environment\n",
    "ELEMENTUS_API_KEY = get_elementus_api_key()"
   ]
  },
  {
   "cell_type": "markdown",
   "id": "407c54d6",
   "metadata": {},
   "source": [
    "### Retrieve last Bitcoin block transactions over 1 BTC"
   ]
  },
  {
   "cell_type": "code",
   "execution_count": 2,
   "id": "1d4a20e5-4661-413b-8c68-0d0f6a057b9a",
   "metadata": {},
   "outputs": [],
   "source": [
    "%load_ext sql\n",
    "%sql engine"
   ]
  },
  {
   "cell_type": "code",
   "execution_count": 3,
   "id": "52c00320-a2d0-4ec8-aa75-de4a5bfb82b7",
   "metadata": {},
   "outputs": [
    {
     "data": {
      "text/html": [
       "<span style=\"None\">Running query in &#x27;bigquery://elementus-prod-242016&#x27;</span>"
      ],
      "text/plain": [
       "Running query in 'bigquery://elementus-prod-242016'"
      ]
     },
     "metadata": {},
     "output_type": "display_data"
    },
    {
     "data": {
      "text/html": [
       "<span style=\"color: green\">8 rows affected.</span>"
      ],
      "text/plain": [
       "8 rows affected."
      ]
     },
     "metadata": {},
     "output_type": "display_data"
    }
   ],
   "source": [
    "%%sql result <<\n",
    "WITH max_block AS (\n",
    "  SELECT MAX(number) as max_number \n",
    "  FROM `bigquery-public-data.crypto_bitcoin.blocks`\n",
    "),\n",
    "inputs AS (\n",
    "  SELECT DISTINCT\n",
    "    transaction_hash AS tx_hash,\n",
    "    addresses\n",
    "  FROM `bigquery-public-data.crypto_bitcoin.inputs`, max_block\n",
    "  WHERE block_number = max_number\n",
    "),\n",
    "outputs AS (\n",
    "  SELECT \n",
    "    transaction_hash AS tx_hash,\n",
    "    addresses[OFFSET(0)] AS address,\n",
    "    value / 100000000 AS value\n",
    "  FROM `bigquery-public-data.crypto_bitcoin.outputs`, max_block\n",
    "  WHERE block_number = max_number\n",
    ")\n",
    "SELECT \n",
    "    o.tx_hash, \n",
    "    o.address AS output_address, \n",
    "    o.value,\n",
    "    ARRAY_AGG(DISTINCT input_address) AS input_addresses\n",
    "FROM outputs o\n",
    "JOIN inputs i ON o.tx_hash = i.tx_hash\n",
    "CROSS JOIN i.addresses AS input_address\n",
    "WHERE o.address NOT IN UNNEST(i.addresses) AND \n",
    "o.address NOT IN ('bc1qv4r4zwvf5ckdx3llaykl0vez4fdaj4jh5yfjsw') AND \n",
    "i.addresses[OFFSET(0)] NOT IN ('bc1qv4r4zwvf5ckdx3llaykl0vez4fdaj4jh5yfjsw') AND \n",
    "o.value >= 1\n",
    "GROUP BY o.tx_hash, o.address, o.value\n",
    "ORDER BY value DESC"
   ]
  },
  {
   "cell_type": "code",
   "execution_count": 4,
   "id": "a38aef85",
   "metadata": {},
   "outputs": [
    {
     "data": {
      "text/html": [
       "<div>\n",
       "<style scoped>\n",
       "    .dataframe tbody tr th:only-of-type {\n",
       "        vertical-align: middle;\n",
       "    }\n",
       "\n",
       "    .dataframe tbody tr th {\n",
       "        vertical-align: top;\n",
       "    }\n",
       "\n",
       "    .dataframe thead th {\n",
       "        text-align: right;\n",
       "    }\n",
       "</style>\n",
       "<table border=\"1\" class=\"dataframe\">\n",
       "  <thead>\n",
       "    <tr style=\"text-align: right;\">\n",
       "      <th></th>\n",
       "      <th>tx_hash</th>\n",
       "      <th>output_address</th>\n",
       "      <th>value</th>\n",
       "      <th>input_addresses</th>\n",
       "    </tr>\n",
       "  </thead>\n",
       "  <tbody>\n",
       "    <tr>\n",
       "      <th>0</th>\n",
       "      <td>cff638019e1852e30fe5a69a540ce674dc7483c5159364...</td>\n",
       "      <td>3MqUP6G1daVS5YTD8fz3QgwjZortWwxXFd</td>\n",
       "      <td>499.21471981</td>\n",
       "      <td>[12V12HjcpwCwiMutxdfn3QP76oqp9gjZRh]</td>\n",
       "    </tr>\n",
       "    <tr>\n",
       "      <th>1</th>\n",
       "      <td>f642199c3ee74d99b4584cb0b6e99a6aa506039da847ad...</td>\n",
       "      <td>1GrwDkr33gT6LuumniYjKEGjTLhsL5kmqC</td>\n",
       "      <td>84.47186308</td>\n",
       "      <td>[1M59EwvjrSSmwqKbyWUif7ZsNZGb3S6CNN, 1N4aTCWCi...</td>\n",
       "    </tr>\n",
       "    <tr>\n",
       "      <th>2</th>\n",
       "      <td>d091a37f2ab54e84ab1296aa254ee961c37770b2894919...</td>\n",
       "      <td>bc1qng0keqn7cq6p8qdt4rjnzdxrygnzq7nd0pju8q</td>\n",
       "      <td>2.22540121</td>\n",
       "      <td>[3CBjVk4CufWfuaYACxEzVfy5yRPY6fqrvn, bc1qh6tlt...</td>\n",
       "    </tr>\n",
       "    <tr>\n",
       "      <th>3</th>\n",
       "      <td>2fb1c310145ec6b36f4acb28642aa98a0fb06bf9bf0cc2...</td>\n",
       "      <td>bc1qx3ytjsdf5zmu2ls9gc5p0ugnflaelpqq84zq44</td>\n",
       "      <td>2.19902378</td>\n",
       "      <td>[38NmTRpLrjrDKMZLXZNHYa3urgCKBNFsfd, 3FGC9CNFe...</td>\n",
       "    </tr>\n",
       "    <tr>\n",
       "      <th>4</th>\n",
       "      <td>8df8416fc8701b59701bd0aae1748e9e4aa927a8ae733d...</td>\n",
       "      <td>bc1qs048ewtkyxystsnz6t4f7hrmrjzva3m24gxjzq</td>\n",
       "      <td>1.99033063</td>\n",
       "      <td>[bc1q4npt32duldtghdmk5cxvhuzxf3fn44r5jvdqvz]</td>\n",
       "    </tr>\n",
       "    <tr>\n",
       "      <th>5</th>\n",
       "      <td>d361e1c75e66d2aae8212066fbbbff9cb4c163337ebf49...</td>\n",
       "      <td>1GrwDkr33gT6LuumniYjKEGjTLhsL5kmqC</td>\n",
       "      <td>1.86681311</td>\n",
       "      <td>[1Gat2Se8mi384E8C57SRouCoTKsfYXcNJ, 1EppXDPdt1...</td>\n",
       "    </tr>\n",
       "    <tr>\n",
       "      <th>6</th>\n",
       "      <td>bc60ec6eabdc11bf6138167c2ffba7e12ebada62ca5a78...</td>\n",
       "      <td>bc1q9gaphdcrqzkz6aymnwd6mvprm24zkkhzlrksrt</td>\n",
       "      <td>1.66256266</td>\n",
       "      <td>[38AnUmM95LJGBoj8iB9JHonXLBBZaXy2bm, 33CgSPQiz...</td>\n",
       "    </tr>\n",
       "    <tr>\n",
       "      <th>7</th>\n",
       "      <td>6fd49ddaa659c6a7de565429eb4ed1f9fdcbcd57043948...</td>\n",
       "      <td>bc1qf5alfy4s3qs0dqgrqgn29pgqr55cfk9fn5kcm3</td>\n",
       "      <td>1.35486199</td>\n",
       "      <td>[bc1qg5zl4h4k9ar4t9w8tazxwv8ks0ylyc4rj64mun]</td>\n",
       "    </tr>\n",
       "  </tbody>\n",
       "</table>\n",
       "</div>"
      ],
      "text/plain": [
       "                                             tx_hash  \\\n",
       "0  cff638019e1852e30fe5a69a540ce674dc7483c5159364...   \n",
       "1  f642199c3ee74d99b4584cb0b6e99a6aa506039da847ad...   \n",
       "2  d091a37f2ab54e84ab1296aa254ee961c37770b2894919...   \n",
       "3  2fb1c310145ec6b36f4acb28642aa98a0fb06bf9bf0cc2...   \n",
       "4  8df8416fc8701b59701bd0aae1748e9e4aa927a8ae733d...   \n",
       "5  d361e1c75e66d2aae8212066fbbbff9cb4c163337ebf49...   \n",
       "6  bc60ec6eabdc11bf6138167c2ffba7e12ebada62ca5a78...   \n",
       "7  6fd49ddaa659c6a7de565429eb4ed1f9fdcbcd57043948...   \n",
       "\n",
       "                               output_address         value  \\\n",
       "0          3MqUP6G1daVS5YTD8fz3QgwjZortWwxXFd  499.21471981   \n",
       "1          1GrwDkr33gT6LuumniYjKEGjTLhsL5kmqC   84.47186308   \n",
       "2  bc1qng0keqn7cq6p8qdt4rjnzdxrygnzq7nd0pju8q    2.22540121   \n",
       "3  bc1qx3ytjsdf5zmu2ls9gc5p0ugnflaelpqq84zq44    2.19902378   \n",
       "4  bc1qs048ewtkyxystsnz6t4f7hrmrjzva3m24gxjzq    1.99033063   \n",
       "5          1GrwDkr33gT6LuumniYjKEGjTLhsL5kmqC    1.86681311   \n",
       "6  bc1q9gaphdcrqzkz6aymnwd6mvprm24zkkhzlrksrt    1.66256266   \n",
       "7  bc1qf5alfy4s3qs0dqgrqgn29pgqr55cfk9fn5kcm3    1.35486199   \n",
       "\n",
       "                                     input_addresses  \n",
       "0               [12V12HjcpwCwiMutxdfn3QP76oqp9gjZRh]  \n",
       "1  [1M59EwvjrSSmwqKbyWUif7ZsNZGb3S6CNN, 1N4aTCWCi...  \n",
       "2  [3CBjVk4CufWfuaYACxEzVfy5yRPY6fqrvn, bc1qh6tlt...  \n",
       "3  [38NmTRpLrjrDKMZLXZNHYa3urgCKBNFsfd, 3FGC9CNFe...  \n",
       "4       [bc1q4npt32duldtghdmk5cxvhuzxf3fn44r5jvdqvz]  \n",
       "5  [1Gat2Se8mi384E8C57SRouCoTKsfYXcNJ, 1EppXDPdt1...  \n",
       "6  [38AnUmM95LJGBoj8iB9JHonXLBBZaXy2bm, 33CgSPQiz...  \n",
       "7       [bc1qg5zl4h4k9ar4t9w8tazxwv8ks0ylyc4rj64mun]  "
      ]
     },
     "execution_count": 4,
     "metadata": {},
     "output_type": "execute_result"
    }
   ],
   "source": [
    "df = result.DataFrame()\n",
    "df"
   ]
  },
  {
   "cell_type": "markdown",
   "id": "028cc5ca",
   "metadata": {},
   "source": [
    "### Use Elementus API to retrieve entity attributions for input and output addresses"
   ]
  },
  {
   "cell_type": "code",
   "execution_count": 5,
   "id": "4c73f07c",
   "metadata": {},
   "outputs": [
    {
     "data": {
      "text/plain": [
       "347"
      ]
     },
     "execution_count": 5,
     "metadata": {},
     "output_type": "execute_result"
    }
   ],
   "source": [
    "client = ElementusClient(api_key=ELEMENTUS_API_KEY)\n",
    "\n",
    "# Check API health\n",
    "is_healthy = await client.check_health()\n",
    "\n",
    "output_addresses = df['output_address'].unique().tolist()\n",
    "input_addresses = list(set(addr for sublist in df['input_addresses'] for addr in sublist))\n",
    "\n",
    "try:\n",
    "    response = await client.get_address_attributions(output_addresses)\n",
    "except ElementusAPIError as e:\n",
    "    print(f\"API error: {e}\")\n",
    "\n",
    "# Create a dictionary from the response data\n",
    "attribution_dict = {address: attr.entity for address, attr in response.data.items()}\n",
    "\n",
    "try:\n",
    "    response = await client.get_address_attributions(input_addresses)\n",
    "except ElementusAPIError as e:\n",
    "    print(f\"API error: {e}\")\n",
    "\n",
    "attribution_dict.update({address: attr.entity for address, attr in response.data.items()})\n",
    "\n",
    "len(attribution_dict)"
   ]
  },
  {
   "cell_type": "markdown",
   "id": "942baae1",
   "metadata": {},
   "source": [
    "### Add entity attributions to transaction data"
   ]
  },
  {
   "cell_type": "code",
   "execution_count": 6,
   "id": "2836f56e",
   "metadata": {},
   "outputs": [
    {
     "data": {
      "text/html": [
       "<div>\n",
       "<style scoped>\n",
       "    .dataframe tbody tr th:only-of-type {\n",
       "        vertical-align: middle;\n",
       "    }\n",
       "\n",
       "    .dataframe tbody tr th {\n",
       "        vertical-align: top;\n",
       "    }\n",
       "\n",
       "    .dataframe thead th {\n",
       "        text-align: right;\n",
       "    }\n",
       "</style>\n",
       "<table border=\"1\" class=\"dataframe\">\n",
       "  <thead>\n",
       "    <tr style=\"text-align: right;\">\n",
       "      <th></th>\n",
       "      <th>tx_hash</th>\n",
       "      <th>output_address</th>\n",
       "      <th>value</th>\n",
       "      <th>input_addresses</th>\n",
       "      <th>output_entity</th>\n",
       "      <th>input_entity</th>\n",
       "    </tr>\n",
       "  </thead>\n",
       "  <tbody>\n",
       "    <tr>\n",
       "      <th>0</th>\n",
       "      <td>cff638019e1852e30fe5a69a540ce674dc7483c5159364...</td>\n",
       "      <td>3MqUP6G1daVS5YTD8fz3QgwjZortWwxXFd</td>\n",
       "      <td>499.21471981</td>\n",
       "      <td>[12V12HjcpwCwiMutxdfn3QP76oqp9gjZRh]</td>\n",
       "      <td>coinbase_prime</td>\n",
       "      <td>None</td>\n",
       "    </tr>\n",
       "    <tr>\n",
       "      <th>3</th>\n",
       "      <td>2fb1c310145ec6b36f4acb28642aa98a0fb06bf9bf0cc2...</td>\n",
       "      <td>bc1qx3ytjsdf5zmu2ls9gc5p0ugnflaelpqq84zq44</td>\n",
       "      <td>2.19902378</td>\n",
       "      <td>[38NmTRpLrjrDKMZLXZNHYa3urgCKBNFsfd, 3FGC9CNFe...</td>\n",
       "      <td>NaN</td>\n",
       "      <td>coinbase.com</td>\n",
       "    </tr>\n",
       "    <tr>\n",
       "      <th>6</th>\n",
       "      <td>bc60ec6eabdc11bf6138167c2ffba7e12ebada62ca5a78...</td>\n",
       "      <td>bc1q9gaphdcrqzkz6aymnwd6mvprm24zkkhzlrksrt</td>\n",
       "      <td>1.66256266</td>\n",
       "      <td>[38AnUmM95LJGBoj8iB9JHonXLBBZaXy2bm, 33CgSPQiz...</td>\n",
       "      <td>NaN</td>\n",
       "      <td>coinbase.com</td>\n",
       "    </tr>\n",
       "  </tbody>\n",
       "</table>\n",
       "</div>"
      ],
      "text/plain": [
       "                                             tx_hash  \\\n",
       "0  cff638019e1852e30fe5a69a540ce674dc7483c5159364...   \n",
       "3  2fb1c310145ec6b36f4acb28642aa98a0fb06bf9bf0cc2...   \n",
       "6  bc60ec6eabdc11bf6138167c2ffba7e12ebada62ca5a78...   \n",
       "\n",
       "                               output_address         value  \\\n",
       "0          3MqUP6G1daVS5YTD8fz3QgwjZortWwxXFd  499.21471981   \n",
       "3  bc1qx3ytjsdf5zmu2ls9gc5p0ugnflaelpqq84zq44    2.19902378   \n",
       "6  bc1q9gaphdcrqzkz6aymnwd6mvprm24zkkhzlrksrt    1.66256266   \n",
       "\n",
       "                                     input_addresses   output_entity  \\\n",
       "0               [12V12HjcpwCwiMutxdfn3QP76oqp9gjZRh]  coinbase_prime   \n",
       "3  [38NmTRpLrjrDKMZLXZNHYa3urgCKBNFsfd, 3FGC9CNFe...             NaN   \n",
       "6  [38AnUmM95LJGBoj8iB9JHonXLBBZaXy2bm, 33CgSPQiz...             NaN   \n",
       "\n",
       "   input_entity  \n",
       "0          None  \n",
       "3  coinbase.com  \n",
       "6  coinbase.com  "
      ]
     },
     "execution_count": 6,
     "metadata": {},
     "output_type": "execute_result"
    }
   ],
   "source": [
    "df['output_entity'] = df['output_address'].map(attribution_dict)\n",
    "df['input_entity'] = [\n",
    "    next((attribution_dict[key] for key in addresses if key in attribution_dict), None)\n",
    "    for addresses in df['input_addresses']\n",
    "]\n",
    "\n",
    "df.dropna(subset=['input_entity', 'output_entity'], how='all', inplace=True)\n",
    "df = df[df['input_entity'] != df['output_entity']]\n",
    "# Ensure 'input_entity' is a string type before using str.startswith\n",
    "df = df[~df['input_entity'].astype(str).str.startswith('fastmoney_') & ~df['output_entity'].astype(str).str.startswith('fastmoney_')]\n",
    "\n",
    "df"
   ]
  },
  {
   "cell_type": "code",
   "execution_count": 7,
   "id": "f00a8441-700c-4670-a69c-983c2e6dc2b6",
   "metadata": {
    "isPromptEdit": false
   },
   "outputs": [
    {
     "data": {
      "text/plain": [
       "'[{\"tx_hash\":\"cff638019e1852e30fe5a69a540ce674dc7483c5159364e673d7afe32302377e\",\"input_entity\":null,\"output_entity\":\"coinbase_prime\",\"value\":499.21471981},{\"tx_hash\":\"2fb1c310145ec6b36f4acb28642aa98a0fb06bf9bf0cc26f7717b0b98501a352\",\"input_entity\":\"coinbase.com\",\"output_entity\":null,\"value\":2.19902378},{\"tx_hash\":\"bc60ec6eabdc11bf6138167c2ffba7e12ebada62ca5a787c435aba506b1fd421\",\"input_entity\":\"coinbase.com\",\"output_entity\":null,\"value\":1.66256266}]'"
      ]
     },
     "execution_count": 7,
     "metadata": {},
     "output_type": "execute_result"
    }
   ],
   "source": [
    "# Convert DataFrame to JSON string\n",
    "json_string = df[['tx_hash', 'input_entity', 'output_entity', 'value']].to_json(orient='records')\n",
    "\n",
    "json_string"
   ]
  },
  {
   "cell_type": "markdown",
   "id": "75ca9432",
   "metadata": {},
   "source": [
    "### Create X Post using X AI to generate on-chain insights from transaction data"
   ]
  },
  {
   "cell_type": "code",
   "execution_count": 12,
   "id": "353e21d4-33f0-4a0d-8500-9ca3aef731ec",
   "metadata": {},
   "outputs": [
    {
     "data": {
      "text/markdown": [
       "## X Post\n",
       "Large BTC moves from wintermute.com & crypto.com to exchanges could signal potential price changes. Stay alert for volatility. #Bitcoin #CryptoNews"
      ],
      "text/plain": [
       "<IPython.core.display.Markdown object>"
      ]
     },
     "metadata": {},
     "output_type": "display_data"
    }
   ],
   "source": [
    "from openai import OpenAI\n",
    "from IPython.display import display, Markdown\n",
    "\n",
    "#XAI_API_KEY = get_xai_api_key()\n",
    "OPENAI_API_KEY = get_openai_api_key()\n",
    "\n",
    "client = OpenAI(\n",
    "    api_key=OPENAI_API_KEY,\n",
    "    #base_url=\"https://api.x.ai/v1\",\n",
    "    base_url=\"https://api.openai.com/v1\",\n",
    ")\n",
    "\n",
    "completion = client.chat.completions.create(\n",
    "    #model=\"grok-2-latest\",\n",
    "    model=\"gpt-4o\",\n",
    "    messages=[\n",
    "        {\n",
    "            \"role\": \"system\",\n",
    "            \"content\": \"You are an expert in Bitcoin blockchain analytics and market structure\"\n",
    "        },\n",
    "        {\n",
    "            \"role\": \"user\",\n",
    "            \"content\": \"Given a list of Bitcoin transactions attributed to entities and news currently trending on Crypto Twitter create an X post explaining the most inportant on-chain insights, which may affect BTC/USD price. Provide only the text ready to be sent via X API without any additional comments. Limit the text to 160 characters. \" + json_string\n",
    "        },\n",
    "    ],\n",
    "    temperature=0.8,\n",
    ")\n",
    "\n",
    "display(Markdown(f\"## X Post\\n{completion.choices[0].message.content}\"))\n"
   ]
  },
  {
   "cell_type": "markdown",
   "id": "8662a8e7",
   "metadata": {},
   "source": [
    "### Tweet the generated post"
   ]
  },
  {
   "cell_type": "code",
   "execution_count": 10,
   "id": "28ac98f4",
   "metadata": {},
   "outputs": [
    {
     "data": {
      "text/plain": [
       "{'data': {'create_tweet': {'tweet_results': {'result': {'rest_id': '1890860377707073623',\n",
       "     'has_birdwatch_notes': False,\n",
       "     'core': {'user_results': {'result': {'__typename': 'User',\n",
       "        'id': 'VXNlcjo5MDA3MjgwNTgyNTYxMzgyNDA=',\n",
       "        'rest_id': '900728058256138240',\n",
       "        'affiliates_highlighted_label': {},\n",
       "        'has_graduated_access': True,\n",
       "        'is_blue_verified': True,\n",
       "        'profile_image_shape': 'Circle',\n",
       "        'legacy': {'can_dm': True,\n",
       "         'can_media_tag': True,\n",
       "         'created_at': 'Thu Aug 24 14:34:38 +0000 2017',\n",
       "         'default_profile': False,\n",
       "         'default_profile_image': False,\n",
       "         'description': 'We enable companies of all sizes to make better, faster decisions on the blockchain',\n",
       "         'entities': {'description': {'urls': []},\n",
       "          'url': {'urls': [{'display_url': 'elementus.io',\n",
       "             'expanded_url': 'https://elementus.io/',\n",
       "             'url': 'https://t.co/h7wrEp5WjF',\n",
       "             'indices': [0, 23]}]}},\n",
       "         'fast_followers_count': 0,\n",
       "         'favourites_count': 1557,\n",
       "         'followers_count': 14828,\n",
       "         'friends_count': 1011,\n",
       "         'has_custom_timelines': False,\n",
       "         'is_translator': False,\n",
       "         'listed_count': 154,\n",
       "         'location': 'New York, NY',\n",
       "         'media_count': 140,\n",
       "         'name': 'Elementus',\n",
       "         'needs_phone_verification': False,\n",
       "         'normal_followers_count': 14828,\n",
       "         'pinned_tweet_ids_str': ['1750178864054083767'],\n",
       "         'possibly_sensitive': False,\n",
       "         'profile_banner_url': 'https://pbs.twimg.com/profile_banners/900728058256138240/1695136189',\n",
       "         'profile_image_url_https': 'https://pbs.twimg.com/profile_images/1582777477340053505/Q4taD9qL_normal.jpg',\n",
       "         'profile_interstitial_type': '',\n",
       "         'screen_name': 'elementus_io',\n",
       "         'statuses_count': 847,\n",
       "         'translator_type': 'none',\n",
       "         'url': 'https://t.co/h7wrEp5WjF',\n",
       "         'verified': False,\n",
       "         'want_retweets': False,\n",
       "         'withheld_in_countries': []},\n",
       "        'professional': {'rest_id': '1701263939676369237',\n",
       "         'professional_type': 'Business',\n",
       "         'category': [{'id': 192,\n",
       "           'name': 'Financial Services',\n",
       "           'display': True,\n",
       "           'icon_name': 'IconBriefcaseStroke'}]},\n",
       "        'smart_blocked_by': False,\n",
       "        'smart_blocking': False}}},\n",
       "     'unmention_data': {},\n",
       "     'edit_control': {'edit_tweet_ids': ['1890860377707073623'],\n",
       "      'editable_until_msecs': '1739654819000',\n",
       "      'is_edit_eligible': True,\n",
       "      'edits_remaining': '5'},\n",
       "     'is_translatable': False,\n",
       "     'views': {'state': 'Enabled'},\n",
       "     'source': '<a href=\"https://mobile.twitter.com\" rel=\"nofollow\">Twitter Web App</a>',\n",
       "     'legacy': {'bookmark_count': 0,\n",
       "      'bookmarked': False,\n",
       "      'created_at': 'Sat Feb 15 20:26:59 +0000 2025',\n",
       "      'conversation_id_str': '1890860377707073623',\n",
       "      'display_text_range': [0, 167],\n",
       "      'entities': {'user_mentions': [],\n",
       "       'urls': [],\n",
       "       'hashtags': [],\n",
       "       'symbols': []},\n",
       "      'favorite_count': 0,\n",
       "      'favorited': False,\n",
       "      'full_text': 'Large outflows from Coinbase (465+ BTC) and Kraken (78+ BTC) suggest potential selling pressure. Binance sees mixed flows, adding complexity to BTC/USD price dynamics.',\n",
       "      'is_quote_status': False,\n",
       "      'lang': 'en',\n",
       "      'quote_count': 0,\n",
       "      'reply_count': 0,\n",
       "      'retweet_count': 0,\n",
       "      'retweeted': False,\n",
       "      'user_id_str': '900728058256138240',\n",
       "      'id_str': '1890860377707073623'},\n",
       "     'quick_promote_eligibility': {'eligibility': 'Eligible'},\n",
       "     'unmention_info': {}}}}}}"
      ]
     },
     "execution_count": 10,
     "metadata": {},
     "output_type": "execute_result"
    }
   ],
   "source": [
    "from twitter.account import Account\n",
    "\n",
    "account = Account(cookies={\"ct0\": \"\", \"auth_token\": \"\"})\n",
    "account.tweet(text=completion.choices[0].message.content)"
   ]
  }
 ],
 "metadata": {
  "kernelspec": {
   "display_name": "torch",
   "language": "python",
   "name": "python3"
  },
  "language_info": {
   "codemirror_mode": {
    "name": "ipython",
    "version": 3
   },
   "file_extension": ".py",
   "mimetype": "text/x-python",
   "name": "python",
   "nbconvert_exporter": "python",
   "pygments_lexer": "ipython3",
   "version": "3.12.6"
  }
 },
 "nbformat": 4,
 "nbformat_minor": 5
}
